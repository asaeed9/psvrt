{
 "cells": [
  {
   "cell_type": "code",
   "execution_count": 1,
   "metadata": {},
   "outputs": [
    {
     "name": "stderr",
     "output_type": "stream",
     "text": [
      "../../original_images/psvrt.py:3: UserWarning: \n",
      "This call to matplotlib.use() has no effect because the backend has already\n",
      "been chosen; matplotlib.use() must be called *before* pylab, matplotlib.pyplot,\n",
      "or matplotlib.backends is imported for the first time.\n",
      "\n",
      "The backend was *originally* set to 'module://ipykernel.pylab.backend_inline' by the following code:\n",
      "  File \"/Users/as186233/anaconda2/envs/py36/lib/python3.6/runpy.py\", line 193, in _run_module_as_main\n",
      "    \"__main__\", mod_spec)\n",
      "  File \"/Users/as186233/anaconda2/envs/py36/lib/python3.6/runpy.py\", line 85, in _run_code\n",
      "    exec(code, run_globals)\n",
      "  File \"/Users/as186233/anaconda2/envs/py36/lib/python3.6/site-packages/ipykernel_launcher.py\", line 16, in <module>\n",
      "    app.launch_new_instance()\n",
      "  File \"/Users/as186233/anaconda2/envs/py36/lib/python3.6/site-packages/traitlets/config/application.py\", line 658, in launch_instance\n",
      "    app.start()\n",
      "  File \"/Users/as186233/anaconda2/envs/py36/lib/python3.6/site-packages/ipykernel/kernelapp.py\", line 486, in start\n",
      "    self.io_loop.start()\n",
      "  File \"/Users/as186233/anaconda2/envs/py36/lib/python3.6/site-packages/tornado/platform/asyncio.py\", line 132, in start\n",
      "    self.asyncio_loop.run_forever()\n",
      "  File \"/Users/as186233/anaconda2/envs/py36/lib/python3.6/asyncio/base_events.py\", line 427, in run_forever\n",
      "    self._run_once()\n",
      "  File \"/Users/as186233/anaconda2/envs/py36/lib/python3.6/asyncio/base_events.py\", line 1440, in _run_once\n",
      "    handle._run()\n",
      "  File \"/Users/as186233/anaconda2/envs/py36/lib/python3.6/asyncio/events.py\", line 145, in _run\n",
      "    self._callback(*self._args)\n",
      "  File \"/Users/as186233/anaconda2/envs/py36/lib/python3.6/site-packages/tornado/platform/asyncio.py\", line 122, in _handle_events\n",
      "    handler_func(fileobj, events)\n",
      "  File \"/Users/as186233/anaconda2/envs/py36/lib/python3.6/site-packages/tornado/stack_context.py\", line 300, in null_wrapper\n",
      "    return fn(*args, **kwargs)\n",
      "  File \"/Users/as186233/anaconda2/envs/py36/lib/python3.6/site-packages/zmq/eventloop/zmqstream.py\", line 450, in _handle_events\n",
      "    self._handle_recv()\n",
      "  File \"/Users/as186233/anaconda2/envs/py36/lib/python3.6/site-packages/zmq/eventloop/zmqstream.py\", line 480, in _handle_recv\n",
      "    self._run_callback(callback, msg)\n",
      "  File \"/Users/as186233/anaconda2/envs/py36/lib/python3.6/site-packages/zmq/eventloop/zmqstream.py\", line 432, in _run_callback\n",
      "    callback(*args, **kwargs)\n",
      "  File \"/Users/as186233/anaconda2/envs/py36/lib/python3.6/site-packages/tornado/stack_context.py\", line 300, in null_wrapper\n",
      "    return fn(*args, **kwargs)\n",
      "  File \"/Users/as186233/anaconda2/envs/py36/lib/python3.6/site-packages/ipykernel/kernelbase.py\", line 283, in dispatcher\n",
      "    return self.dispatch_shell(stream, msg)\n",
      "  File \"/Users/as186233/anaconda2/envs/py36/lib/python3.6/site-packages/ipykernel/kernelbase.py\", line 233, in dispatch_shell\n",
      "    handler(stream, idents, msg)\n",
      "  File \"/Users/as186233/anaconda2/envs/py36/lib/python3.6/site-packages/ipykernel/kernelbase.py\", line 399, in execute_request\n",
      "    user_expressions, allow_stdin)\n",
      "  File \"/Users/as186233/anaconda2/envs/py36/lib/python3.6/site-packages/ipykernel/ipkernel.py\", line 208, in do_execute\n",
      "    res = shell.run_cell(code, store_history=store_history, silent=silent)\n",
      "  File \"/Users/as186233/anaconda2/envs/py36/lib/python3.6/site-packages/ipykernel/zmqshell.py\", line 537, in run_cell\n",
      "    return super(ZMQInteractiveShell, self).run_cell(*args, **kwargs)\n",
      "  File \"/Users/as186233/anaconda2/envs/py36/lib/python3.6/site-packages/IPython/core/interactiveshell.py\", line 2662, in run_cell\n",
      "    raw_cell, store_history, silent, shell_futures)\n",
      "  File \"/Users/as186233/anaconda2/envs/py36/lib/python3.6/site-packages/IPython/core/interactiveshell.py\", line 2785, in _run_cell\n",
      "    interactivity=interactivity, compiler=compiler, result=result)\n",
      "  File \"/Users/as186233/anaconda2/envs/py36/lib/python3.6/site-packages/IPython/core/interactiveshell.py\", line 2901, in run_ast_nodes\n",
      "    if self.run_code(code, result):\n",
      "  File \"/Users/as186233/anaconda2/envs/py36/lib/python3.6/site-packages/IPython/core/interactiveshell.py\", line 2961, in run_code\n",
      "    exec(code_obj, self.user_global_ns, self.user_ns)\n",
      "  File \"<ipython-input-1-9096da29e22b>\", line 1, in <module>\n",
      "    get_ipython().run_line_magic('matplotlib', 'inline')\n",
      "  File \"/Users/as186233/anaconda2/envs/py36/lib/python3.6/site-packages/IPython/core/interactiveshell.py\", line 2131, in run_line_magic\n",
      "    result = fn(*args,**kwargs)\n",
      "  File \"<decorator-gen-107>\", line 2, in matplotlib\n",
      "  File \"/Users/as186233/anaconda2/envs/py36/lib/python3.6/site-packages/IPython/core/magic.py\", line 187, in <lambda>\n",
      "    call = lambda f, *a, **k: f(*a, **k)\n",
      "  File \"/Users/as186233/anaconda2/envs/py36/lib/python3.6/site-packages/IPython/core/magics/pylab.py\", line 99, in matplotlib\n",
      "    gui, backend = self.shell.enable_matplotlib(args.gui)\n",
      "  File \"/Users/as186233/anaconda2/envs/py36/lib/python3.6/site-packages/IPython/core/interactiveshell.py\", line 3049, in enable_matplotlib\n",
      "    pt.activate_matplotlib(backend)\n",
      "  File \"/Users/as186233/anaconda2/envs/py36/lib/python3.6/site-packages/IPython/core/pylabtools.py\", line 311, in activate_matplotlib\n",
      "    matplotlib.pyplot.switch_backend(backend)\n",
      "  File \"/Users/as186233/anaconda2/envs/py36/lib/python3.6/site-packages/matplotlib/pyplot.py\", line 231, in switch_backend\n",
      "    matplotlib.use(newbackend, warn=False, force=True)\n",
      "  File \"/Users/as186233/anaconda2/envs/py36/lib/python3.6/site-packages/matplotlib/__init__.py\", line 1410, in use\n",
      "    reload(sys.modules['matplotlib.backends'])\n",
      "  File \"/Users/as186233/anaconda2/envs/py36/lib/python3.6/importlib/__init__.py\", line 166, in reload\n",
      "    _bootstrap._exec(spec, module)\n",
      "  File \"/Users/as186233/anaconda2/envs/py36/lib/python3.6/site-packages/matplotlib/backends/__init__.py\", line 16, in <module>\n",
      "    line for line in traceback.format_stack()\n",
      "\n",
      "\n",
      "  matplotlib.use('Agg')\n"
     ]
    }
   ],
   "source": [
    "%matplotlib inline\n",
    "from __future__ import absolute_import\n",
    "from __future__ import division\n",
    "from __future__ import print_function\n",
    "import matplotlib.pyplot as plt\n",
    "import tensorflow as tf\n",
    "import numpy as np\n",
    "from sklearn.metrics import confusion_matrix\n",
    "import cv2, os, math, time, sys\n",
    "from datetime import timedelta\n",
    "from sklearn.utils import shuffle\n",
    "sys.path.append('../../original_images')\n",
    "from gen_data_batch import generate_batch\n",
    "from scipy import *"
   ]
  },
  {
   "cell_type": "markdown",
   "metadata": {},
   "source": [
    "### Configuration"
   ]
  },
  {
   "cell_type": "code",
   "execution_count": null,
   "metadata": {},
   "outputs": [],
   "source": [
    "###Configuration\n",
    "\"\"\"\n",
    "Data Configurations/Paths\n",
    "\"\"\"\n",
    "img_dir_patch=\"./SD/predicted_patches\"\n",
    "img_dir_orig = \"../../original_images/SD\"\n",
    "\n",
    "model20m = 'SD/model20m.ckpt'\n",
    "# img_type = \"original\"\n",
    "img_type = \"patch\"\n",
    "\n",
    "##\n",
    "# Convolutional Layer 1.\n",
    "filter_size1 = 4          # Convolution filters are 4 x 4 pixels.\n",
    "num_filters1 = 16         # There are 16 of these filters.\n",
    "\n",
    "# Convolutional Layer 2.\n",
    "filter_size2 = 2          # Convolution filters are 2 x 2 pixels.\n",
    "num_filters2 = 32         # There are 32 of these filters.\n",
    "\n",
    "# Convolutional Layer 3.\n",
    "filter_size3 = 2          # Convolution filters are 2 x 2 pixels.\n",
    "num_filters3 = 64         # There are 64 of these filters.\n",
    "\n",
    "# Convolutional Layer 4.\n",
    "filter_size4 = 2          # Convolution filters are 2 x 2 pixels.\n",
    "num_filters4 = 128         # There are 128 of these filters.\n",
    "\n",
    "# Fully-connected layer.\n",
    "fc_size = 256             # Number of neurons in fully-connected layer."
   ]
  },
  {
   "cell_type": "markdown",
   "metadata": {},
   "source": [
    "### Load Data"
   ]
  },
  {
   "cell_type": "code",
   "execution_count": null,
   "metadata": {},
   "outputs": [],
   "source": [
    "def change_label_dimensions(labels):\n",
    "    label_temp = np.zeros((len(labels), 2))\n",
    "    \n",
    "    for idx in range(0, len(labels)):\n",
    "        if labels[idx] == 1:\n",
    "            label_temp[idx][1] = 1\n",
    "        else:\n",
    "            label_temp[idx][0] = 1\n",
    "    \n",
    "    return label_temp\n",
    "\n",
    "def load_data(img_dir, img_type=\"patch\"):\n",
    "        list_of_imgs = []\n",
    "        list_same_diff = []\n",
    "        for img_no in os.listdir(img_dir):\n",
    "            img_no_path = os.path.join(img_dir, img_no)\n",
    "            for img_label in os.listdir(img_no_path):\n",
    "                    \n",
    "                list_same_diff.append(int(img_label))\n",
    "                img_lbl_path = os.path.join(img_no_path, img_label)\n",
    "#                 print(img_lbl_path)\n",
    "                if img_type == \"original\":\n",
    "                    img_lbl_path = img_lbl_path + \"/img/\"\n",
    "                    \n",
    "                if img_type == \"patch\":\n",
    "                    for img in os.listdir(img_lbl_path):\n",
    "#                         if img == \"labels\":\n",
    "                        img_path = os.path.join(img_lbl_path, img)\n",
    "#                             img_path = img_path + \"/merged_patch.png\"\n",
    "                        list_of_imgs.append(img_path)\n",
    "                else:    \n",
    "                    for img in os.listdir(img_lbl_path):\n",
    "                        img_path = os.path.join(img_lbl_path, img)\n",
    "                        list_of_imgs.append(img_path)\n",
    "#         print(list_of_imgs)\n",
    "        data_imgs = np.array(list_of_imgs)\n",
    "        data_same_diff = np.array(list_same_diff)\n",
    "\n",
    "        return data_imgs, data_same_diff\n",
    "\n",
    "# def load_data(img_dir):\n",
    "#         list_of_imgs = []\n",
    "#         list_same_diff = []\n",
    "#         for img_no in os.listdir(img_dir):\n",
    "#             if img_no == \".DS_Store\":\n",
    "#                 continue\n",
    "\n",
    "#             img_no_path = os.path.join(img_dir, img_no)\n",
    "#             for img_label in os.listdir(img_no_path):\n",
    "#                 if img_label == \".DS_Store\":\n",
    "#                     continue\n",
    "                    \n",
    "#                 list_same_diff.append(int(img_label))\n",
    "#                 img_lbl_path = os.path.join(img_no_path, img_label)\n",
    "#                 for img in os.listdir(img_lbl_path):\n",
    "#                     img_path = os.path.join(img_lbl_path, img)\n",
    "#                     list_of_imgs.append(img_path)\n",
    "\n",
    "#         data_imgs = np.array(list_of_imgs)\n",
    "#         data_same_diff = np.array(list_same_diff)\n",
    "\n",
    "#         return data_imgs, data_same_diff\n",
    "\n",
    "    \n",
    "def get_batch_images(data, same_diff, type_img = \"patch\"):\n",
    "        list_of_imgs = []\n",
    "        list_of_same_diff = []\n",
    "        for img, img_type in zip(data, same_diff):\n",
    "            orig_img = cv2.imread(img)\n",
    "            #only first image as a label\n",
    "            if orig_img is None:\n",
    "                    print (\"Unable to read image{}\".format(img))\n",
    "                    continue\n",
    "            \n",
    "            if type_img == \"original\":\n",
    "                flattened_img = orig_img.flatten()\n",
    "                list_of_imgs.append(np.asarray(flattened_img, dtype=np.float32))\n",
    "                \n",
    "                if img_type == 1: #0 is same and 1 is different\n",
    "                    list_of_same_diff.append([0,1])\n",
    "                else:\n",
    "                    list_of_same_diff.append([1,0])\n",
    "            else:            \n",
    "                if orig_img.shape == (4, 2, 3):\n",
    "                    flattened_img = orig_img.flatten()\n",
    "                    list_of_imgs.append(np.asarray(flattened_img, dtype=np.float32))\n",
    "\n",
    "                    if img_type == 1: #0 is same and 1 is different\n",
    "                        list_of_same_diff.append([0,1])\n",
    "                    else:\n",
    "                        list_of_same_diff.append([1,0])\n",
    "        \n",
    "        data_imgs = np.array(list_of_imgs)\n",
    "        data_img_type = np.array(list_of_same_diff)\n",
    "        \n",
    "        return data_imgs, data_img_type"
   ]
  },
  {
   "cell_type": "markdown",
   "metadata": {},
   "source": [
    "### Next Batch Own Implementation"
   ]
  },
  {
   "cell_type": "code",
   "execution_count": null,
   "metadata": {},
   "outputs": [],
   "source": [
    "def next_batch(num, data, labels):\n",
    "    '''\n",
    "    Return a total of `num` random samples and labels. \n",
    "    '''\n",
    "    idx = np.arange(0 , len(data))\n",
    "    np.random.shuffle(idx)\n",
    "    idx = idx[:num]\n",
    "    data_shuffle = [data[ i] for i in idx]\n",
    "    labels_shuffle = [labels[ i] for i in idx]\n",
    "\n",
    "    return np.asarray(data_shuffle), np.asarray(labels_shuffle)"
   ]
  },
  {
   "cell_type": "markdown",
   "metadata": {},
   "source": [
    "### Data Dimensions"
   ]
  },
  {
   "cell_type": "code",
   "execution_count": null,
   "metadata": {},
   "outputs": [],
   "source": [
    "# Number of colour channels for the images: 3 channel for RGB.\n",
    "num_channels = 3\n",
    "\n",
    "# Tuple with height and width of images used to reshape arrays.\n",
    "img_shape = (60, 60, num_channels)\n",
    "\n",
    "# Number of classes, one class for same and one for different image\n",
    "num_classes = 2"
   ]
  },
  {
   "cell_type": "markdown",
   "metadata": {},
   "source": [
    "### Image Plot Functions"
   ]
  },
  {
   "cell_type": "code",
   "execution_count": null,
   "metadata": {},
   "outputs": [],
   "source": [
    "def plot_images(images, cls_true, cls_pred=None):\n",
    "    assert len(images) == len(cls_true) == 9\n",
    "    \n",
    "    # Create figure with 3x3 sub-plots.\n",
    "    fig, axes = plt.subplots(3, 3)\n",
    "    fig.subplots_adjust(hspace=0.3, wspace=0.3)\n",
    "\n",
    "    for i, ax in enumerate(axes.flat):\n",
    "        # Plot image.\n",
    "        ax.imshow(cv2.imread(images[i]).flatten().reshape((8,4, 3)), cmap='binary')\n",
    "\n",
    "        # Show true and predicted classes.\n",
    "        if cls_pred is None:\n",
    "            xlabel = \"True: {0}\".format(cls_true[i])\n",
    "        else:\n",
    "            xlabel = \"True: {0}, Pred: {1}\".format(cls_true[i], cls_pred[i])\n",
    "\n",
    "        # Show the classes as the label on the x-axis.\n",
    "        ax.set_xlabel(xlabel)\n",
    "        \n",
    "        # Remove ticks from the plot.\n",
    "        ax.set_xticks([])\n",
    "        ax.set_yticks([])\n",
    "    \n",
    "    # Ensure the plot is shown correctly with multiple plots\n",
    "    # in a single Notebook cell.\n",
    "    plt.show()\n",
    "    \n",
    "    \n",
    "def generate_size_graph(fig_no, training_size, accuracy, loss, patch_only,patch_conv, start_size, end_size):\n",
    "    plt.figure(fig_no,figsize=(7,5))\n",
    "    plt.plot(training_size,accuracy)\n",
    "    plt.plot(training_size,loss)\n",
    "    plt.plot(training_size, patch_only)\n",
    "    plt.plot(training_size, patch_conv)\n",
    "    plt.xlabel('Training Size')\n",
    "    plt.ylabel('Accuracy')\n",
    "    plt.title('Training Size vs Accuracy')\n",
    "    plt.grid(True)\n",
    "    plt.legend(['SD Original Accuracy','SR Accuracy', 'SD Patch Accuracy', 'SD Patch Conv'])\n",
    "    plt.style.use(['classic'])\n",
    "    plt.show()\n",
    "    plt.savefig(path + '/batch_graphs/' +  str(start_size) + '_' + str(end_size) + '.jpg') \n",
    "        \n",
    "def generate_graph(fig_no, epochs, train, val, label, train_title, val_title, train_size):\n",
    "    plt.figure(fig_no,figsize=(7,5))\n",
    "    plt.plot(epochs,train)\n",
    "    plt.plot(epochs,val)\n",
    "    plt.xlabel('num of Epochs')\n",
    "    plt.ylabel(label)\n",
    "    plt.title(train_title + ' vs ' + val_title + '( Samples:' + str(train_size) + ')')\n",
    "    plt.grid(True)\n",
    "    plt.legend(['Patch','SD'])\n",
    "    plt.style.use(['classic'])\n",
    "    plt.show()\n",
    "#     plt.savefig(results_path + '/batch_graphs/' +  label + '_' + str(train_size) + '.jpg')     "
   ]
  },
  {
   "cell_type": "markdown",
   "metadata": {
    "collapsed": true
   },
   "source": [
    "### Helper Functions for TF Graph Initialization"
   ]
  },
  {
   "cell_type": "code",
   "execution_count": null,
   "metadata": {},
   "outputs": [],
   "source": [
    "def new_weights(shape):\n",
    "    initializer = tf.contrib.layers.xavier_initializer()\n",
    "    return tf.Variable(initializer(shape))\n",
    "#     return tf.Variable(tf.truncated_normal(shape, stddev=0.05))\n",
    "\n",
    "def new_bias(length):\n",
    "    return tf.Variable(tf.constant(0.05, shape=[length]))"
   ]
  },
  {
   "cell_type": "markdown",
   "metadata": {},
   "source": [
    "### Helper Functions for Network"
   ]
  },
  {
   "cell_type": "code",
   "execution_count": null,
   "metadata": {},
   "outputs": [],
   "source": [
    "def new_conv_layer(input,\n",
    "                   num_input_channels,\n",
    "                   filter_size,\n",
    "                   num_filters,\n",
    "                   use_pooling=True):\n",
    "\n",
    "    shape = [filter_size, filter_size, num_input_channels, num_filters]\n",
    "    weights = new_weights(shape)\n",
    "    biases = new_bias(length=num_filters)\n",
    "    \n",
    "    layer = tf.nn.conv2d(input=input,\n",
    "                     filter=weights,\n",
    "                     strides=[1, 1, 1, 1],\n",
    "                     padding='SAME')\n",
    "    layer += biases\n",
    "\n",
    "    if use_pooling:\n",
    "        layer = tf.nn.max_pool(value=layer,\n",
    "                               ksize=[1, 3, 3, 1],\n",
    "                               strides=[1, 2, 2, 1],\n",
    "                               padding='SAME')\n",
    "    layer = tf.nn.relu(layer)\n",
    "\n",
    "    return layer, weights\n",
    "\n",
    "def flatten_layer(layer):\n",
    "    layer_shape = layer.get_shape()\n",
    "    num_features = layer_shape[1:4].num_elements()\n",
    "    layer_flat = tf.reshape(layer, [-1, num_features])\n",
    "    \n",
    "    return layer_flat, num_features\n",
    "\n",
    "def new_fc_layer(input,\n",
    "                num_inputs,\n",
    "                num_outputs,\n",
    "                use_relu=True):\n",
    "\n",
    "    weights = new_weights(shape=[num_inputs, num_outputs])\n",
    "    biases = new_bias(length=num_outputs)\n",
    "    layer = tf.matmul(input, weights) + biases\n",
    "    \n",
    "    if use_relu:\n",
    "        layer = tf.nn.relu(layer)\n",
    "    \n",
    "    return layer"
   ]
  },
  {
   "cell_type": "code",
   "execution_count": null,
   "metadata": {},
   "outputs": [],
   "source": [
    "x = tf.placeholder(tf.float32, shape=[None, img_shape[0]*img_shape[1]*num_channels], name='x')\n",
    "x_image = tf.reshape(x, [-1, img_shape[0], img_shape[1], num_channels])\n",
    "y_true = tf.placeholder(tf.float32, shape=[None, num_classes], name='y_true')\n",
    "y_true_cls = tf.argmax(y_true, axis=1)\n",
    "x_image.shape, y_true"
   ]
  },
  {
   "cell_type": "markdown",
   "metadata": {},
   "source": [
    "### Convolution Layers"
   ]
  },
  {
   "cell_type": "code",
   "execution_count": null,
   "metadata": {},
   "outputs": [],
   "source": [
    "layer1_conv1, weights_conv1 = new_conv_layer(input=x_image,\n",
    "                                            num_input_channels=num_channels,\n",
    "                                            filter_size=filter_size1,\n",
    "                                            num_filters=num_filters1,\n",
    "                                            use_pooling=True)\n",
    "\n",
    "layer2_conv2, weights_conv2 =  new_conv_layer(input=layer1_conv1,\n",
    "                                           num_input_channels=num_filters1,\n",
    "                                           filter_size=filter_size2,\n",
    "                                           num_filters=num_filters2,\n",
    "                                           use_pooling=True)\n",
    "\n",
    "layer3_conv3, weights_conv3 =  new_conv_layer(input=layer2_conv2,\n",
    "                                           num_input_channels=num_filters2,\n",
    "                                           filter_size=filter_size3,\n",
    "                                           num_filters=num_filters3,\n",
    "                                           use_pooling=True)\n",
    "\n",
    "layer4_conv4, weights_conv4 =  new_conv_layer(input=layer3_conv3,\n",
    "                                           num_input_channels=num_filters3,\n",
    "                                           filter_size=filter_size4,\n",
    "                                           num_filters=num_filters4,\n",
    "                                           use_pooling=True)"
   ]
  },
  {
   "cell_type": "code",
   "execution_count": null,
   "metadata": {},
   "outputs": [],
   "source": [
    "layer_flat, num_features = flatten_layer(layer4_conv4)"
   ]
  },
  {
   "cell_type": "markdown",
   "metadata": {},
   "source": [
    "### Fully Connected Layers"
   ]
  },
  {
   "cell_type": "code",
   "execution_count": null,
   "metadata": {},
   "outputs": [],
   "source": [
    "layer_fc1 = new_fc_layer(input=layer_flat,\n",
    "                         num_inputs=num_features,\n",
    "                         num_outputs=fc_size,\n",
    "                         use_relu=True)\n",
    "\n",
    "\n",
    "layer_fc2 = new_fc_layer(input=layer_fc1,\n",
    "                         num_inputs=fc_size,\n",
    "                         num_outputs=fc_size,\n",
    "                         use_relu=False)\n",
    "\n",
    "layer_fc3 = new_fc_layer(input=layer_fc2,\n",
    "                         num_inputs=fc_size,\n",
    "                         num_outputs=fc_size,\n",
    "                         use_relu=False)\n",
    "\n",
    "layer_fc4 = new_fc_layer(input=layer_fc3,\n",
    "                         num_inputs=fc_size,\n",
    "                         num_outputs=num_classes,\n",
    "                         use_relu=False)\n",
    "\n",
    "drop_out = tf.nn.dropout(layer_fc4, 0.5)\n",
    "\n",
    "##Normalize the numbers(apply softmax!)\n",
    "\n",
    "y_pred = tf.nn.softmax(drop_out)\n",
    "y_pred_cls = tf.argmax(y_pred, axis=1)"
   ]
  },
  {
   "cell_type": "markdown",
   "metadata": {},
   "source": [
    "### Cost Function"
   ]
  },
  {
   "cell_type": "code",
   "execution_count": null,
   "metadata": {},
   "outputs": [],
   "source": [
    "cross_entropy = tf.nn.softmax_cross_entropy_with_logits_v2(logits=drop_out,\n",
    "                                                        labels=y_true)\n",
    "cost = tf.reduce_mean(cross_entropy)"
   ]
  },
  {
   "cell_type": "markdown",
   "metadata": {},
   "source": [
    "### Optimization Method"
   ]
  },
  {
   "cell_type": "code",
   "execution_count": null,
   "metadata": {},
   "outputs": [],
   "source": [
    "optimizer = tf.train.AdamOptimizer(learning_rate=1e-4).minimize(cost)\n",
    "\n",
    "## some more performance measures\n",
    "correct_prediction = tf.equal(y_pred_cls, y_true_cls)\n",
    "accuracy = tf.reduce_mean(tf.cast(correct_prediction, tf.float32))"
   ]
  },
  {
   "cell_type": "markdown",
   "metadata": {},
   "source": [
    "### Run Tensorflow on Defined Graph"
   ]
  },
  {
   "cell_type": "code",
   "execution_count": null,
   "metadata": {},
   "outputs": [],
   "source": [
    "def optimize(num_epochs, save_model=True,save_name= \"base_model\",restore_model=False,restore_name=None):\n",
    "    total_iterations = 0\n",
    "    done_train_imgs = 0\n",
    "    start_time = time.time()\n",
    "    start_batch=0\n",
    "    end_batch = train_batch_size\n",
    "    plot_accuracy=[]\n",
    "    plot_accuracy_epoch=[]\n",
    "    plot_training_size=[]\n",
    "    plot_training_size_epoch=[]\n",
    "    saver = tf.train.Saver()\n",
    "    sum_accuracy = 0.0\n",
    "    n = 1\n",
    "    \n",
    "        #to save the model\n",
    "    for i in range(0, num_epochs):   \n",
    "        start_batch=0\n",
    "        end_batch = train_batch_size\n",
    "        \n",
    "        print(\"Epoch:\", i + 1)\n",
    "        \n",
    "        if restore_model==True:\n",
    "            if restore_name==None:\n",
    "                print(\"No model file specified\")\n",
    "                return\n",
    "            else:\n",
    "                saver.restore(session,restore_name)\n",
    "        \n",
    "        sum_accuracy = 0.0\n",
    "        n = 1\n",
    "        while end_batch < total_imgs:\n",
    "#             train = train_data[start_batch:end_batch]\n",
    "#             labels = train_labels[start_batch:end_batch]\n",
    "#             train, labels = get_batch_images(train, labels, img_type)\n",
    "            train, labels = generate_batch(train_batch_size, img_shape)\n",
    "            if not len(train) and not len(labels):\n",
    "                print(\"All images have been processed.\")\n",
    "                break;\n",
    "\n",
    "            x_batch, y_true_batch = next_batch(len(train), train, labels)\n",
    "            feed_dict_train = {x: x_batch,\n",
    "                       y_true: y_true_batch}\n",
    "            \n",
    "            session.run(optimizer, feed_dict=feed_dict_train)\n",
    "    \n",
    "            acc,co = session.run([accuracy, cost], feed_dict=feed_dict_train)\n",
    "            sum_accuracy += acc\n",
    "            n+=1\n",
    "            msg = \"Optimization Iteration: {0:>6}, Training Accuracy: {1:>6.1%}, Loss: {2:>.4f}\"\n",
    "            print(msg.format(end_batch + 1, acc, co))\n",
    "            if end_batch % 100:\n",
    "                plot_accuracy.append(acc)\n",
    "                plot_training_size.append(end_batch + 1)\n",
    "\n",
    "            start_batch += train_batch_size\n",
    "            end_batch += train_batch_size\n",
    "    \n",
    "        if save_model==True:\n",
    "            if save_name==None:\n",
    "                print(\"No model specified, model not being saved\")\n",
    "                return\n",
    "            else:\n",
    "                save_path = saver.save(session, save_name)\n",
    "                restore_model = True\n",
    "                print(\"Model saved in file: %s\" % save_name)\n",
    "        plot_accuracy_epoch.append(sum_accuracy/n)\n",
    "        plot_training_size_epoch.append(i + 1)\n",
    "    \n",
    "    end_time = time.time()\n",
    "    # Difference between start and end-times.\n",
    "    time_dif = end_time - start_time\n",
    "\n",
    "    # Print the time-usage.\n",
    "    print(\"Time usage: \" + str(timedelta(seconds=int(round(time_dif)))))  \n",
    "    print(plot_accuracy)\n",
    "    print(plot_training_size)\n",
    "    print(plot_accuracy_epoch)\n",
    "    print(plot_training_size_epoch)"
   ]
  },
  {
   "cell_type": "markdown",
   "metadata": {},
   "source": [
    "### Performance/Optimization"
   ]
  },
  {
   "cell_type": "code",
   "execution_count": null,
   "metadata": {},
   "outputs": [],
   "source": [
    "total_imgs = 1024\n",
    "train_batch_size = 50\n",
    "\n",
    "save_model = True\n",
    "save_name = model20m\n",
    "restore_model=False\n",
    "restore_name=model20m\n",
    "\n",
    "session = tf.Session()\n",
    "session.run(tf.global_variables_initializer())\n",
    "optimize(num_epochs=1, save_model=True,save_name=model20m,restore_model=False,restore_name=model20m)"
   ]
  },
  {
   "cell_type": "code",
   "execution_count": null,
   "metadata": {},
   "outputs": [],
   "source": [
    "tensor_names = [t.name for op in tf.get_default_graph().get_operations() for t in op.values()]\n",
    "tensor_names"
   ]
  },
  {
   "cell_type": "code",
   "execution_count": null,
   "metadata": {},
   "outputs": [],
   "source": [
    "accuracy_sr_plot = [0.5, 0.75, 0.78125, 0.8125, 0.8125, 0.8125, 0.8125, 0.828125, 0.875, 0.90625, 0.78125, 0.90625, 0.78125, 0.921875, 0.828125, 0.921875]\n",
    "accuracy_sd_plot = [0.421875, 0.484375, 0.484375, 0.453125, 0.578125, 0.515625, 0.5625, 0.5625, 0.5, 0.5625, 0.671875, 0.59375, 0.421875, 0.5625, 0.484375, 0.515625]\n",
    "accuracy_sd_patchonly_plot = [0.578125, 0.890625, 0.8125, 0.890625, 0.890625, 0.8125, 0.796875, 0.9375, 0.90625, 0.890625, 0.90625, 0.84375, 0.859375, 0.828125, 0.9375, 0.890625]\n",
    "accuracy_sd_conv_plot = [0.609375, 0.671875, 0.828125, 0.84375, 0.78125, 0.8125, 0.859375, 0.828125, 0.84375, 0.890625, 0.953125, 0.90625, 0.921875, 0.84375, 0.921875, 0.859375]\n",
    "training_size_sd_plot = [64, 64064, 128064, 192064, 256064, 320064, 384064, 448064, 512064, 576064, 640064, 704064, 768064, 832064, 896064, 960064]"
   ]
  },
  {
   "cell_type": "code",
   "execution_count": null,
   "metadata": {},
   "outputs": [],
   "source": [
    "# fig_no, training_size, accuracy, loss, start_size, end_size\n",
    "\n",
    "generate_size_graph(1, training_size_sd_plot, accuracy_sd_plot, accuracy_sr_plot,accuracy_sd_patchonly_plot,accuracy_sd_conv_plot,  64, 960064)"
   ]
  },
  {
   "cell_type": "markdown",
   "metadata": {},
   "source": [
    "### Plot Error"
   ]
  },
  {
   "cell_type": "code",
   "execution_count": null,
   "metadata": {},
   "outputs": [],
   "source": [
    "def plot_example_errors(cls_pred, correct):\n",
    "    # This function is called from print_test_accuracy() below.\n",
    "\n",
    "    # cls_pred is an array of the predicted class-number for\n",
    "    # all images in the test-set.\n",
    "\n",
    "    # correct is a boolean array whether the predicted class\n",
    "    # is equal to the true class for each image in the test-set.\n",
    "\n",
    "    # Negate the boolean array.\n",
    "    incorrect = (correct == False)\n",
    "    \n",
    "    # Get the images from the test-set that have been\n",
    "    # incorrectly classified.\n",
    "    images = data.test.images[incorrect]\n",
    "    \n",
    "    # Get the predicted classes for those images.\n",
    "    cls_pred = cls_pred[incorrect]\n",
    "\n",
    "    # Get the true classes for those images.\n",
    "    cls_true = data.test.cls[incorrect]\n",
    "    \n",
    "    # Plot the first 9 images.\n",
    "    plot_images(images=images[0:9],\n",
    "                cls_true=cls_true[0:9],\n",
    "                cls_pred=cls_pred[0:9])\n",
    "    \n",
    "def plot_confusion_matrix(cls_pred):\n",
    "    # This is called from print_test_accuracy() below.\n",
    "\n",
    "    # cls_pred is an array of the predicted class-number for\n",
    "    # all images in the test-set.\n",
    "\n",
    "    # Get the true classifications for the test-set.\n",
    "    cls_true = data.test.cls\n",
    "    \n",
    "    # Get the confusion matrix using sklearn.\n",
    "    cm = confusion_matrix(y_true=cls_true,\n",
    "                          y_pred=cls_pred)\n",
    "\n",
    "    # Print the confusion matrix as text.\n",
    "    print(cm)\n",
    "\n",
    "    # Plot the confusion matrix as an image.\n",
    "    plt.matshow(cm)\n",
    "\n",
    "    # Make various adjustments to the plot.\n",
    "    plt.colorbar()\n",
    "    tick_marks = np.arange(num_classes)\n",
    "    plt.xticks(tick_marks, range(num_classes))\n",
    "    plt.yticks(tick_marks, range(num_classes))\n",
    "    plt.xlabel('Predicted')\n",
    "    plt.ylabel('True')\n",
    "\n",
    "    # Ensure the plot is shown correctly with multiple plots\n",
    "    # in a single Notebook cell.\n",
    "    plt.show()"
   ]
  },
  {
   "cell_type": "markdown",
   "metadata": {},
   "source": [
    "### Print Accuracy"
   ]
  },
  {
   "cell_type": "code",
   "execution_count": null,
   "metadata": {},
   "outputs": [],
   "source": [
    "# Split the test-set into smaller batches of this size.\n",
    "test_batch_size = 256\n",
    "\n",
    "def print_test_accuracy(show_example_errors=False,\n",
    "                        show_confusion_matrix=False):\n",
    "\n",
    "    # Number of images in the test-set.\n",
    "    num_test = len(data.test.images)\n",
    "\n",
    "    # Allocate an array for the predicted classes which\n",
    "    # will be calculated in batches and filled into this array.\n",
    "    cls_pred = np.zeros(shape=num_test, dtype=np.int)\n",
    "\n",
    "    # Now calculate the predicted classes for the batches.\n",
    "    # We will just iterate through all the batches.\n",
    "    # There might be a more clever and Pythonic way of doing this.\n",
    "\n",
    "    # The starting index for the next batch is denoted i.\n",
    "    i = 0\n",
    "\n",
    "    while i < num_test:\n",
    "        # The ending index for the next batch is denoted j.\n",
    "        j = min(i + test_batch_size, num_test)\n",
    "\n",
    "        # Get the images from the test-set between index i and j.\n",
    "        images = data.test.images[i:j, :]\n",
    "\n",
    "        # Get the associated labels.\n",
    "        labels = data.test.labels[i:j, :]\n",
    "\n",
    "        # Create a feed-dict with these images and labels.\n",
    "        feed_dict = {x: images,\n",
    "                     y_true: labels}\n",
    "\n",
    "        # Calculate the predicted class using TensorFlow.\n",
    "        cls_pred[i:j] = session.run(y_pred_cls, feed_dict=feed_dict)\n",
    "\n",
    "        # Set the start-index for the next batch to the\n",
    "        # end-index of the current batch.\n",
    "        i = j\n",
    "\n",
    "    # Convenience variable for the true class-numbers of the test-set.\n",
    "    cls_true = data.test.cls\n",
    "\n",
    "    # Create a boolean array whether each image is correctly classified.\n",
    "    correct = (cls_true == cls_pred)\n",
    "\n",
    "    # Calculate the number of correctly classified images.\n",
    "    # When summing a boolean array, False means 0 and True means 1.\n",
    "    correct_sum = correct.sum()\n",
    "\n",
    "    # Classification accuracy is the number of correctly classified\n",
    "    # images divided by the total number of images in the test-set.\n",
    "    acc = float(correct_sum) / num_test\n",
    "\n",
    "    # Print the accuracy.\n",
    "    msg = \"Accuracy on Test-Set: {0:.1%} ({1} / {2})\"\n",
    "    print(msg.format(acc, correct_sum, num_test))\n",
    "\n",
    "    # Plot some examples of mis-classifications, if desired.\n",
    "    if show_example_errors:\n",
    "        print(\"Example errors:\")\n",
    "        plot_example_errors(cls_pred=cls_pred, correct=correct)\n",
    "\n",
    "    # Plot the confusion matrix, if desired.\n",
    "    if show_confusion_matrix:\n",
    "        print(\"Confusion Matrix:\")\n",
    "        plot_confusion_matrix(cls_pred=cls_pred)"
   ]
  },
  {
   "cell_type": "code",
   "execution_count": null,
   "metadata": {},
   "outputs": [],
   "source": [
    "train_data[:64]"
   ]
  },
  {
   "cell_type": "code",
   "execution_count": null,
   "metadata": {},
   "outputs": [],
   "source": [
    "x_batch, y_true_batch = data.test.next_batch(64)\n",
    "x_batch"
   ]
  },
  {
   "cell_type": "code",
   "execution_count": null,
   "metadata": {},
   "outputs": [],
   "source": [
    "type(data.train.labels)"
   ]
  },
  {
   "cell_type": "code",
   "execution_count": null,
   "metadata": {},
   "outputs": [],
   "source": [
    "[0.84375, 0.8125, 0.78125, 0.859375, 0.796875, 0.84375, 0.796875, 0.71875, 0.6875, 0.8125, 0.890625, 0.8125, 0.84375, 0.796875, 0.75, 0.890625, 0.78125, 0.859375, 0.78125, 0.78125, 0.765625, 0.828125, 0.75, 0.796875, 0.796875, 0.734375, 0.84375, 0.828125, 0.84375, 0.6875, 0.796875, 0.84375, 0.796875, 0.84375, 0.828125, 0.859375, 0.828125, 0.84375, 0.78125, 0.90625, 0.84375, 0.875, 0.65625, 0.828125, 0.828125, 0.734375, 0.84375, 0.796875, 0.875, 0.828125, 0.71875, 0.875, 0.75, 0.875, 0.828125, 0.765625, 0.84375, 0.875, 0.734375, 0.75, 0.84375, 0.84375, 0.8125, 0.796875, 0.8125, 0.828125, 0.8125, 0.8125, 0.8125, 0.859375, 0.890625, 0.859375, 0.859375, 0.75, 0.75, 0.8125, 0.78125, 0.828125, 0.84375, 0.78125, 0.78125, 0.84375, 0.8125, 0.859375, 0.796875, 0.859375, 0.875, 0.828125, 0.75, 0.84375, 0.796875, 0.90625, 0.75, 0.859375, 0.828125, 0.828125, 0.859375, 0.90625, 0.859375, 0.734375, 0.859375, 0.90625, 0.84375, 0.859375, 0.71875, 0.765625, 0.796875, 0.890625, 0.75, 0.828125, 0.828125, 0.875, 0.796875, 0.765625, 0.890625, 0.8125, 0.828125, 0.78125, 0.890625, 0.734375, 0.796875, 0.90625, 0.84375, 0.75, 0.859375, 0.8125, 0.828125, 0.890625, 0.796875, 0.859375, 0.765625, 0.84375, 0.796875, 0.78125, 0.8125, 0.734375, 0.875, 0.8125, 0.78125, 0.8125, 0.71875, 0.78125, 0.859375, 0.78125, 0.890625, 0.90625, 0.8125, 0.78125, 0.828125, 0.8125, 0.78125, 0.78125, 0.796875, 0.734375, 0.859375, 0.765625, 0.8125, 0.828125, 0.828125, 0.84375, 0.84375, 0.859375, 0.78125, 0.765625, 0.8125, 0.8125, 0.765625, 0.875, 0.8125, 0.828125, 0.875, 0.875, 0.765625, 0.796875, 0.890625, 0.828125, 0.859375, 0.734375, 0.8125, 0.765625, 0.859375, 0.78125, 0.875, 0.78125, 0.890625, 0.765625, 0.8125, 0.875, 0.84375, 0.890625, 0.796875, 0.8125, 0.828125, 0.765625, 0.8125, 0.890625, 0.859375, 0.78125, 0.828125, 0.8125, 0.96875, 0.875, 0.78125, 0.78125, 0.875, 0.703125, 0.796875, 0.875, 0.78125, 0.828125, 0.84375, 0.796875, 0.84375, 0.796875, 0.84375, 0.921875, 0.828125, 0.828125, 0.859375, 0.796875, 0.78125, 0.78125, 0.8125, 0.78125, 0.828125, 0.890625, 0.875, 0.75, 0.796875, 0.90625, 0.859375, 0.859375, 0.875, 0.8125, 0.78125, 0.90625, 0.75, 0.828125, 0.875, 0.765625, 0.828125, 0.859375, 0.859375, 0.828125, 0.78125, 0.8125, 0.8125, 0.859375, 0.84375, 0.875, 0.84375, 0.859375, 0.875, 0.828125, 0.84375, 0.796875, 0.875, 0.84375, 0.796875, 0.78125, 0.859375, 0.859375, 0.8125, 0.859375, 0.796875, 0.703125, 0.828125, 0.875, 0.859375, 0.796875, 0.828125, 0.875, 0.84375, 0.890625, 0.859375, 0.796875, 0.8125, 0.875, 0.796875, 0.859375, 0.875, 0.828125, 0.703125, 0.78125, 0.703125, 0.84375, 0.796875, 0.875, 0.890625, 0.890625, 0.8125, 0.84375, 0.78125, 0.84375, 0.84375, 0.875, 0.8125, 0.859375, 0.796875, 0.828125, 0.84375, 0.859375, 0.859375, 0.8125, 0.828125, 0.796875, 0.8125, 0.8125, 0.84375, 0.84375, 0.8125, 0.828125, 0.828125, 0.8125, 0.890625, 0.78125, 0.796875, 0.796875, 0.828125, 0.84375, 0.90625, 0.859375, 0.84375, 0.875, 0.75, 0.84375, 0.890625, 0.765625, 0.875, 0.84375, 0.84375, 0.84375, 0.859375, 0.921875, 0.75, 0.859375, 0.828125, 0.75, 0.875, 0.765625, 0.859375, 0.875, 0.78125, 0.90625, 0.75, 0.71875, 0.75, 0.859375, 0.78125, 0.78125, 0.84375, 0.875, 0.859375, 0.765625, 0.84375, 0.78125, 0.890625, 0.78125, 0.703125, 0.796875, 0.78125, 0.78125, 0.875, 0.875, 0.859375, 0.8125, 0.859375, 0.8125, 0.859375, 0.765625, 0.765625, 0.78125, 0.8125, 0.84375, 0.859375, 0.8125, 0.859375, 0.78125, 0.78125, 0.75, 0.84375, 0.765625, 0.859375, 0.78125, 0.78125, 0.8125, 0.703125, 0.828125, 0.75, 0.90625, 0.8125, 0.828125, 0.84375, 0.859375, 0.75, 0.796875, 0.890625, 0.890625, 0.78125, 0.8125, 0.71875, 0.796875, 0.859375, 0.84375, 0.859375, 0.8125, 0.828125, 0.84375, 0.8125, 0.84375, 0.828125, 0.78125, 0.8125, 0.828125, 0.8125, 0.828125, 0.765625, 0.765625, 0.765625, 0.703125, 0.828125, 0.734375, 0.875, 0.875, 0.84375, 0.8125, 0.84375, 0.734375, 0.84375, 0.890625, 0.859375, 0.8125, 0.84375, 0.859375, 0.828125, 0.765625, 0.890625, 0.84375, 0.796875, 0.890625, 0.8125, 0.734375, 0.703125, 0.921875, 0.859375, 0.90625, 0.78125, 0.84375, 0.71875, 0.828125, 0.828125, 0.84375, 0.875, 0.828125, 0.8125, 0.78125, 0.828125, 0.890625, 0.921875, 0.828125, 0.828125, 0.84375, 0.84375, 0.828125, 0.828125, 0.84375, 0.859375, 0.859375, 0.84375, 0.765625, 0.78125, 0.8125, 0.828125, 0.796875, 0.84375, 0.84375, 0.75, 0.765625, 0.890625, 0.765625, 0.859375, 0.875, 0.875, 0.734375, 0.859375, 0.796875, 0.859375, 0.859375, 0.828125, 0.84375, 0.8125, 0.71875, 0.890625, 0.828125, 0.765625, 0.84375, 0.78125, 0.90625, 0.71875, 0.828125, 0.84375, 0.796875, 0.828125, 0.875, 0.875, 0.875, 0.828125, 0.78125, 0.859375, 0.84375, 0.796875, 0.75, 0.890625, 0.8125, 0.875, 0.8125, 0.8125]\n",
    "[65, 129, 193, 257, 321, 385, 449, 513, 577, 641, 705, 769, 833, 897, 961, 1025, 1089, 1153, 1217, 1281, 1345, 1409, 1473, 1537, 1601, 1665, 1729, 1793, 1857, 1921, 1985, 2049, 2113, 2177, 2241, 2305, 2369, 2433, 2497, 2561, 2625, 2689, 2753, 2817, 2881, 2945, 3009, 3073, 3137, 3201, 3265, 3329, 3393, 3457, 3521, 3585, 3649, 3713, 3777, 3841, 3905, 3969, 4033, 4097, 4161, 4225, 4289, 4353, 4417, 4481, 4545, 4609, 4673, 4737, 4801, 4865, 4929, 4993, 5057, 5121, 5185, 5249, 5313, 5377, 5441, 5505, 5569, 5633, 5697, 5761, 5825, 5889, 5953, 6017, 6081, 6145, 6209, 6273, 6337, 6401, 6465, 6529, 6593, 6657, 6721, 6785, 6849, 6913, 6977, 7041, 7105, 7169, 7233, 7297, 7361, 7425, 7489, 7553, 7617, 7681, 7745, 7809, 7873, 7937, 8001, 8065, 8129, 8193, 8257, 8321, 8385, 8449, 8513, 8577, 8641, 8705, 8769, 8833, 8897, 8961, 9025, 9089, 9153, 9217, 9281, 9345, 9409, 9473, 9537, 9601, 9665, 9729, 9793, 9857, 9921, 9985, 10049, 10113, 10177, 10241, 10305, 10369, 10433, 10497, 10561, 10625, 10689, 10753, 10817, 10881, 10945, 11009, 11073, 11137, 11201, 11265, 11329, 11393, 11457, 11521, 11585, 11649, 11713, 11777, 11841, 11905, 11969, 12033, 12097, 12161, 12225, 12289, 12353, 12417, 12481, 12545, 12609, 12673, 12737, 12801, 12865, 12929, 12993, 13057, 13121, 13185, 13249, 13313, 13377, 13441, 13505, 13569, 13633, 13697, 13761, 13825, 13889, 13953, 14017, 14081, 14145, 14209, 14273, 14337, 14401, 14465, 14529, 14593, 14657, 14721, 14785, 14849, 14913, 14977, 15041, 15105, 15169, 15233, 15297, 15361, 15425, 15489, 15553, 15617, 15681, 15745, 15809, 15873, 15937, 16001, 16065, 16129, 16193, 16257, 16321, 16385, 16449, 16513, 16577, 16641, 16705, 16769, 16833, 16897, 16961, 17025, 17089, 17153, 17217, 17281, 17345, 17409, 17473, 17537, 17601, 17665, 17729, 17793, 17857, 17921, 17985, 18049, 18113, 18177, 18241, 18305, 18369, 18433, 18497, 18561, 18625, 18689, 18753, 18817, 18881, 18945, 19009, 19073, 19137, 19201, 19265, 19329, 19393, 19457, 19521, 19585, 19649, 19713, 19777, 19841, 19905, 19969, 20033, 20097, 20161, 20225, 20289, 20353, 20417, 20481, 20545, 20609, 20673, 20737, 20801, 20865, 20929, 20993, 21057, 21121, 21185, 21249, 21313, 21377, 21441, 21505, 21569, 21633, 21697, 21761, 21825, 21889, 21953, 22017, 22081, 22145, 22209, 22273, 22337, 22401, 22465, 22529, 22593, 22657, 22721, 22785, 22849, 22913, 22977, 23041, 23105, 23169, 23233, 23297, 23361, 23425, 23489, 23553, 23617, 23681, 23745, 23809, 23873, 23937, 24001, 24065, 24129, 24193, 24257, 24321, 24385, 24449, 24513, 24577, 24641, 24705, 24769, 24833, 24897, 24961, 25025, 25089, 25153, 25217, 25281, 25345, 25409, 25473, 25537, 25601, 25665, 25729, 25793, 25857, 25921, 25985, 26049, 26113, 26177, 26241, 26305, 26369, 26433, 26497, 26561, 26625, 26689, 26753, 26817, 26881, 26945, 27009, 27073, 27137, 27201, 27265, 27329, 27393, 27457, 27521, 27585, 27649, 27713, 27777, 27841, 27905, 27969, 28033, 28097, 28161, 28225, 28289, 28353, 28417, 28481, 28545, 28609, 28673, 28737, 28801, 28865, 28929, 28993, 29057, 29121, 29185, 29249, 29313, 29377, 29441, 29505, 29569, 29633, 29697, 29761, 29825, 29889, 29953, 30017, 30081, 30145, 30209, 30273, 30337, 30401, 30465, 30529, 30593, 30657, 30721, 30785, 30849, 30913, 30977, 31041, 31105, 31169, 31233, 31297, 31361, 31425, 31489, 31553, 31617, 31681, 31745, 31809, 31873, 31937, 32001, 32065, 32129, 32193, 32257, 32321, 32385, 32449, 32513, 32577, 32641, 32705, 32769, 32833, 32897, 32961, 33025, 33089]\n",
    "[0.875, 0.953125, 0.796875, 0.890625, 0.875, 0.921875, 0.9375, 0.84375, 0.90625, 0.90625, 0.8125, 0.921875, 0.84375, 0.8125, 0.890625, 0.796875, 0.890625, 0.9375, 0.90625, 0.9375, 0.890625, 0.90625, 0.828125, 0.84375, 0.90625, 0.859375, 0.890625, 0.859375, 0.8125, 0.828125, 0.875, 0.796875, 0.796875, 0.796875, 0.90625, 0.890625, 0.921875, 0.875, 0.859375, 0.890625, 0.90625, 0.953125, 0.765625, 0.90625, 0.90625, 0.84375, 0.859375, 0.84375, 0.890625, 0.890625, 0.875, 0.859375, 0.953125, 0.90625, 0.84375, 0.796875, 0.84375, 0.9375, 0.90625, 0.84375, 0.78125, 0.90625, 0.8125, 0.8125, 0.859375, 0.875, 0.953125, 0.875, 0.859375, 0.875, 0.9375, 0.90625, 0.921875, 0.890625, 0.859375, 0.890625, 0.890625, 0.859375, 0.9375, 0.859375, 0.859375, 0.828125, 0.828125, 0.875, 0.796875, 0.890625, 0.8125, 0.828125, 0.828125, 0.921875, 0.78125, 0.828125, 0.90625, 0.875, 0.796875, 0.921875, 0.8125, 0.828125, 0.8125, 0.90625, 0.90625, 0.921875, 0.796875, 0.78125, 0.875, 0.859375, 0.90625, 0.828125, 0.84375, 0.828125, 0.828125, 0.828125, 0.890625, 0.84375, 0.953125, 0.828125, 0.890625, 0.859375, 0.9375, 0.921875, 0.859375, 0.859375, 0.921875, 0.890625, 0.90625, 0.828125, 0.90625, 0.859375, 0.921875, 0.90625, 0.90625, 0.921875, 0.828125, 0.859375, 0.890625, 0.859375, 0.890625, 0.9375, 0.765625, 0.859375, 0.8125, 0.859375, 0.84375, 0.90625, 0.90625, 0.828125, 0.859375, 0.90625, 0.84375, 0.875, 0.9375, 0.9375, 0.90625, 0.890625, 0.9375, 0.84375, 0.828125, 0.859375, 0.84375, 0.84375, 0.84375, 0.859375, 0.84375, 0.828125, 0.875, 0.921875, 0.875, 0.921875, 0.8125, 0.875, 0.875, 0.875, 0.84375, 0.875, 0.84375, 0.9375, 0.765625, 0.875, 0.890625, 0.828125, 0.875, 0.84375, 0.84375, 0.984375, 0.859375, 0.859375, 0.890625, 0.875, 0.828125, 0.9375, 0.875, 0.84375, 0.875, 0.875, 0.921875, 0.875, 0.921875, 0.875, 0.890625, 0.828125, 0.90625, 0.828125, 0.890625, 0.875, 0.796875, 0.765625, 0.9375, 0.859375, 0.921875, 0.875, 0.875, 0.875, 0.890625, 0.890625, 0.796875, 0.875, 0.875, 0.796875, 0.859375, 0.859375, 0.8125, 0.9375, 0.859375, 0.890625, 0.90625, 0.859375, 0.890625, 0.921875, 0.8125, 0.921875, 0.875, 0.859375, 0.875, 0.875, 0.828125, 0.828125, 0.875, 0.90625, 0.90625, 0.859375, 0.875, 0.953125, 0.875, 0.828125, 0.9375, 0.828125, 0.8125, 0.90625, 0.921875, 0.828125, 0.875, 0.890625, 0.921875, 0.890625, 0.796875, 0.84375, 0.875, 0.828125, 0.8125, 0.890625, 0.828125, 0.90625, 0.8125, 0.84375, 0.859375, 0.90625, 0.859375, 0.890625, 0.90625, 0.859375, 0.828125, 0.890625, 0.921875, 0.859375, 0.78125, 0.890625, 0.859375, 0.84375, 0.859375, 0.890625, 0.84375, 0.828125, 0.890625, 0.921875, 0.921875, 0.828125, 0.921875, 0.84375, 0.84375, 0.875, 0.90625, 0.875, 0.875, 0.84375, 0.90625, 0.921875, 0.921875, 0.90625, 0.84375, 0.890625, 0.8125, 0.734375, 0.9375, 0.84375, 0.875, 0.8125, 0.90625, 0.90625, 0.828125, 0.90625, 0.921875, 0.890625, 0.875, 0.875, 0.859375, 0.875, 0.765625, 0.828125, 0.890625, 0.875, 0.890625, 0.875, 0.890625, 0.875, 0.8125, 0.875, 0.84375, 0.875, 0.921875, 0.84375, 0.875, 0.84375, 0.84375, 0.90625, 0.90625, 0.921875, 0.859375, 0.859375, 0.828125, 0.953125, 0.84375, 0.875, 0.953125, 0.875, 0.84375, 0.84375, 0.875, 0.84375, 0.84375, 0.859375, 0.90625, 0.875, 0.921875, 0.90625, 0.765625, 0.84375, 0.859375, 0.859375, 0.84375, 0.890625, 0.828125, 0.8125, 0.84375, 0.90625, 0.890625, 0.8125, 0.890625, 0.828125, 0.90625, 0.875, 0.828125, 0.8125, 0.765625, 0.890625, 0.859375, 0.859375, 0.984375, 0.84375, 0.859375, 0.875, 0.921875, 0.890625, 0.96875, 0.828125, 0.84375, 0.84375, 0.90625, 0.890625, 0.875, 0.90625, 0.875, 0.9375, 0.859375, 0.84375, 0.8125, 0.828125, 0.890625, 0.84375, 0.875, 0.890625, 0.828125, 0.859375, 0.859375, 0.875, 0.890625, 0.859375, 0.875, 0.890625, 0.890625, 0.9375, 0.921875, 0.90625, 0.921875, 0.859375, 0.828125, 0.828125, 0.828125, 0.828125, 0.765625, 0.8125, 0.796875, 0.84375, 0.8125, 0.84375, 0.875, 0.828125, 0.8125, 0.84375, 0.90625, 0.875, 0.859375, 0.84375, 0.875, 0.890625, 0.921875, 0.796875, 0.859375, 0.859375, 0.90625, 0.859375, 0.828125, 0.84375, 0.828125, 0.90625, 0.84375, 0.875, 0.953125, 0.828125, 0.875, 0.921875, 0.890625, 0.8125, 0.90625, 0.8125, 0.875, 0.8125, 0.84375, 0.90625, 0.90625, 0.859375, 0.84375, 0.875, 0.859375, 0.828125, 0.875, 0.8125, 0.890625, 0.875, 0.8125, 0.875, 0.859375, 0.875, 0.875, 0.828125, 0.921875, 0.828125, 0.828125, 0.953125, 0.828125, 0.859375, 0.875, 0.890625, 0.90625, 0.796875, 0.859375, 0.890625, 0.859375, 0.859375, 0.84375, 0.90625, 0.8125, 0.875, 0.875, 0.859375, 0.828125, 0.890625, 0.890625, 0.875, 0.84375, 0.84375, 0.921875, 0.828125, 0.859375, 0.890625, 0.875, 0.890625, 0.859375, 0.859375, 0.84375, 0.84375, 0.875, 0.890625, 0.875, 0.859375, 0.84375, 0.875, 0.8125]\n",
    "[65, 129, 193, 257, 321, 385, 449, 513, 577, 641, 705, 769, 833, 897, 961, 1025, 1089, 1153, 1217, 1281, 1345, 1409, 1473, 1537, 1601, 1665, 1729, 1793, 1857, 1921, 1985, 2049, 2113, 2177, 2241, 2305, 2369, 2433, 2497, 2561, 2625, 2689, 2753, 2817, 2881, 2945, 3009, 3073, 3137, 3201, 3265, 3329, 3393, 3457, 3521, 3585, 3649, 3713, 3777, 3841, 3905, 3969, 4033, 4097, 4161, 4225, 4289, 4353, 4417, 4481, 4545, 4609, 4673, 4737, 4801, 4865, 4929, 4993, 5057, 5121, 5185, 5249, 5313, 5377, 5441, 5505, 5569, 5633, 5697, 5761, 5825, 5889, 5953, 6017, 6081, 6145, 6209, 6273, 6337, 6401, 6465, 6529, 6593, 6657, 6721, 6785, 6849, 6913, 6977, 7041, 7105, 7169, 7233, 7297, 7361, 7425, 7489, 7553, 7617, 7681, 7745, 7809, 7873, 7937, 8001, 8065, 8129, 8193, 8257, 8321, 8385, 8449, 8513, 8577, 8641, 8705, 8769, 8833, 8897, 8961, 9025, 9089, 9153, 9217, 9281, 9345, 9409, 9473, 9537, 9601, 9665, 9729, 9793, 9857, 9921, 9985, 10049, 10113, 10177, 10241, 10305, 10369, 10433, 10497, 10561, 10625, 10689, 10753, 10817, 10881, 10945, 11009, 11073, 11137, 11201, 11265, 11329, 11393, 11457, 11521, 11585, 11649, 11713, 11777, 11841, 11905, 11969, 12033, 12097, 12161, 12225, 12289, 12353, 12417, 12481, 12545, 12609, 12673, 12737, 12801, 12865, 12929, 12993, 13057, 13121, 13185, 13249, 13313, 13377, 13441, 13505, 13569, 13633, 13697, 13761, 13825, 13889, 13953, 14017, 14081, 14145, 14209, 14273, 14337, 14401, 14465, 14529, 14593, 14657, 14721, 14785, 14849, 14913, 14977, 15041, 15105, 15169, 15233, 15297, 15361, 15425, 15489, 15553, 15617, 15681, 15745, 15809, 15873, 15937, 16001, 16065, 16129, 16193, 16257, 16321, 16385, 16449, 16513, 16577, 16641, 16705, 16769, 16833, 16897, 16961, 17025, 17089, 17153, 17217, 17281, 17345, 17409, 17473, 17537, 17601, 17665, 17729, 17793, 17857, 17921, 17985, 18049, 18113, 18177, 18241, 18305, 18369, 18433, 18497, 18561, 18625, 18689, 18753, 18817, 18881, 18945, 19009, 19073, 19137, 19201, 19265, 19329, 19393, 19457, 19521, 19585, 19649, 19713, 19777, 19841, 19905, 19969, 20033, 20097, 20161, 20225, 20289, 20353, 20417, 20481, 20545, 20609, 20673, 20737, 20801, 20865, 20929, 20993, 21057, 21121, 21185, 21249, 21313, 21377, 21441, 21505, 21569, 21633, 21697, 21761, 21825, 21889, 21953, 22017, 22081, 22145, 22209, 22273, 22337, 22401, 22465, 22529, 22593, 22657, 22721, 22785, 22849, 22913, 22977, 23041, 23105, 23169, 23233, 23297, 23361, 23425, 23489, 23553, 23617, 23681, 23745, 23809, 23873, 23937, 24001, 24065, 24129, 24193, 24257, 24321, 24385, 24449, 24513, 24577, 24641, 24705, 24769, 24833, 24897, 24961, 25025, 25089, 25153, 25217, 25281, 25345, 25409, 25473, 25537, 25601, 25665, 25729, 25793, 25857, 25921, 25985, 26049, 26113, 26177, 26241, 26305, 26369, 26433, 26497, 26561, 26625, 26689, 26753, 26817, 26881, 26945, 27009, 27073, 27137, 27201, 27265, 27329, 27393, 27457, 27521, 27585, 27649, 27713, 27777, 27841, 27905, 27969, 28033, 28097, 28161, 28225, 28289, 28353, 28417, 28481, 28545, 28609, 28673, 28737, 28801, 28865, 28929, 28993, 29057, 29121, 29185, 29249, 29313, 29377, 29441, 29505, 29569, 29633, 29697, 29761, 29825, 29889, 29953, 30017, 30081, 30145, 30209, 30273, 30337, 30401, 30465, 30529, 30593, 30657, 30721, 30785, 30849, 30913, 30977, 31041, 31105, 31169, 31233, 31297, 31361, 31425, 31489, 31553, 31617, 31681, 31745, 31809, 31873, 31937, 32001, 32065, 32129, 32193, 32257, 32321, 32385, 32449, 32513, 32577, 32641, 32705, 32769, 32833, 32897, 32961, 33025, 33089]"
   ]
  },
  {
   "cell_type": "code",
   "execution_count": null,
   "metadata": {},
   "outputs": [],
   "source": [
    "[0.682583252895753, 0.7848998552123552, 0.8154862451737451, 0.823871862934363, 0.8351532335907336, 0.838531611969112, 0.8439611486486487, 0.8454391891891891, 0.8443532818532818, 0.8474601833976834, 0.8517434845559846, 0.8527992277992278, 0.8534930019305019, 0.8545789092664092, 0.8536438223938224, 0.8558458011583011, 0.8557251447876448, 0.8581081081081081, 0.8593448359073359, 0.8613055019305019, 0.8607625482625483, 0.8619087837837838, 0.8626930501930502, 0.86652388996139, 0.8641710907335908, 0.8649855212355212, 0.8659809362934363, 0.868846525096525, 0.8675494691119691, 0.8706865347490348]\n",
    "[1, 2, 3, 4, 5, 6, 7, 8, 9, 10, 11, 12, 13, 14, 15, 16, 17, 18, 19, 20, 21, 22, 23, 24, 25, 26, 27, 28, 29, 30]\n",
    "[0.682583252895753, 0.7848998552123552, 0.8154862451737451, 0.823871862934363, 0.8351532335907336, 0.838531611969112, 0.8439611486486487, 0.8454391891891891, 0.8443532818532818, 0.8474601833976834, 0.8517434845559846, 0.8527992277992278, 0.8534930019305019, 0.8545789092664092, 0.8536438223938224, 0.8558458011583011, 0.8557251447876448, 0.8581081081081081, 0.8593448359073359, 0.8613055019305019, 0.8607625482625483, 0.8619087837837838, 0.8626930501930502, 0.86652388996139, 0.8641710907335908, 0.8649855212355212, 0.8659809362934363, 0.868846525096525, 0.8675494691119691, 0.8706865347490348]\n",
    "[1, 2, 3, 4, 5, 6, 7, 8, 9, 10, 11, 12, 13, 14, 15, 16, 17, 18, 19, 20, 21, 22, 23, 24, 25, 26, 27, 28, 29, 30]"
   ]
  },
  {
   "cell_type": "code",
   "execution_count": null,
   "metadata": {},
   "outputs": [],
   "source": [
    "accuracy_sd = [0.5181587837837838, 0.5230755308880309, 0.5339346042471043, 0.5334218146718147, 0.5387910231660231, 0.5470258204633205, 0.5545668436293436, 0.567386583011583, 0.5835847007722008, 0.6008083976833977, 0.619449806949807, 0.6399915540540541, 0.6607142857142857, 0.6763694498069498, 0.6886763996138996, 0.699867277992278, 0.7165178571428571, 0.7225808397683398, 0.7372104247104247, 0.7440878378378378, 0.753921332046332, 0.7609797297297297, 0.7618544884169884, 0.7700289575289575, 0.7795004826254827, 0.783210666023166, 0.7914152992277992, 0.7912946428571429, 0.800132722007722, 0.8066180019305019]"
   ]
  },
  {
   "cell_type": "code",
   "execution_count": null,
   "metadata": {},
   "outputs": [],
   "source": [
    "epochs = [1, 2, 3, 4, 5, 6, 7, 8, 9, 10, 11, 12, 13, 14, 15, 16, 17, 18, 19, 20, 21, 22, 23, 24, 25, 26, 27, 28, 29, 30]\n",
    "single_patch = [0.6778692455242967, 0.8157968350383632, 0.8419117647058824, 0.8459079283887468, 0.853360773657289, 0.8519421355498721, 0.853420716112532, 0.8556385869565217, 0.8560382033248082, 0.8580962276214834, 0.8550591432225064, 0.858196131713555, 0.85775655370844, 0.8592750959079284, 0.8586556905370843, 0.8573569373401535, 0.8583559782608695, 0.8637108375959079, 0.8586157289002557, 0.8654092071611253, 0.8638507033248082, 0.8644701086956522, 0.8628316815856778, 0.8632712595907929, 0.8638906649616368, 0.8634510869565217, 0.8638706841432225, 0.8648297634271099, 0.8664082480818415, 0.866628037084399]\n",
    "accuracy_patch = [0.682583252895753, 0.7848998552123552, 0.8154862451737451, 0.823871862934363, 0.8351532335907336, 0.838531611969112, 0.8439611486486487, 0.8454391891891891, 0.8443532818532818, 0.8474601833976834, 0.8517434845559846, 0.8527992277992278, 0.8534930019305019, 0.8545789092664092, 0.8536438223938224, 0.8558458011583011, 0.8557251447876448, 0.8581081081081081, 0.8593448359073359, 0.8613055019305019, 0.8607625482625483, 0.8619087837837838, 0.8626930501930502, 0.86652388996139, 0.8641710907335908, 0.8649855212355212, 0.8659809362934363, 0.868846525096525, 0.8675494691119691, 0.8706865347490348]\n",
    "accuracy_patch_honest = [0.5964508642765685, 0.685759443021767, 0.7221510883482715, 0.7329745518565941, 0.7377560819462228, 0.7417373559539052, 0.7426176376440461, 0.7411371638924455, 0.7472391165172856, 0.7490196862996159, 0.7513404289372599, 0.751280409731114, 0.7525808258642765, 0.7539412612035852, 0.7538012163892446, 0.7568221830985915, 0.7538012163892446, 0.7589828745198464, 0.7596830985915493, 0.7593629961587708, 0.7561219590268886, 0.7599631882202305, 0.7578625160051217, 0.7599631882202305, 0.7632842509603073, 0.765685019206146, 0.7645646606914213, 0.7671854993597952, 0.7670454545454546, 0.7695062419974392]\n",
    "accuracy_sd = [0.5181587837837838, 0.5230755308880309, 0.5339346042471043, 0.5334218146718147, 0.5387910231660231, 0.5470258204633205, 0.5545668436293436, 0.567386583011583, 0.5835847007722008, 0.6008083976833977, 0.619449806949807, 0.6399915540540541, 0.6607142857142857, 0.6763694498069498, 0.6886763996138996, 0.699867277992278, 0.7165178571428571, 0.7225808397683398, 0.7372104247104247, 0.7440878378378378, 0.753921332046332, 0.7609797297297297, 0.7618544884169884, 0.7700289575289575, 0.7795004826254827, 0.783210666023166, 0.7914152992277992, 0.7912946428571429, 0.800132722007722, 0.8066180019305019]"
   ]
  },
  {
   "cell_type": "code",
   "execution_count": null,
   "metadata": {},
   "outputs": [],
   "source": [
    "generate_graph(1, training_size_sd_plot, accuracy_patch, accuracy_sd, \"Accuracy\", \"Patch\", \"SD Image\", 33000)"
   ]
  },
  {
   "cell_type": "code",
   "execution_count": null,
   "metadata": {},
   "outputs": [],
   "source": [
    "train_acc = [0.57999999999999996, 0.57999999999999996, 0.52000000000000002, 0.44, 0.52000000000000002, 0.44, 0.52000000000000002, 0.59999999999999998, 0.47999999999999998, 0.52000000000000002, 0.5, 0.57999999999999996, 0.52000000000000002, 0.59999999999999998, 0.56000000000000005, 0.54000000000000004, 0.62, 0.5, 0.52000000000000002, 0.56000000000000005, 0.5, 0.59999999999999998, 0.40000000000000002, 0.62, 0.35999999999999999, 0.47999999999999998, 0.46000000000000002, 0.35999999999999999, 0.5, 0.57999999999999996, 0.54000000000000004, 0.38, 0.35999999999999999, 0.44, 0.62, 0.54000000000000004, 0.52000000000000002, 0.56000000000000005, 0.47999999999999998, 0.68000000000000005, 0.52000000000000002, 0.5, 0.59999999999999998, 0.46000000000000002, 0.54000000000000004, 0.44, 0.41999999999999998, 0.54000000000000004, 0.46000000000000002, 0.38, 0.52000000000000002, 0.47999999999999998, 0.54000000000000004, 0.57999999999999996, 0.40000000000000002, 0.40000000000000002, 0.40000000000000002, 0.57999999999999996, 0.41999999999999998, 0.38, 0.46000000000000002, 0.44, 0.5, 0.40000000000000002, 0.40000000000000002, 0.56000000000000005, 0.52000000000000002, 0.44, 0.47999999999999998, 0.35999999999999999, 0.40000000000000002, 0.64000000000000001, 0.69999999999999996, 0.71999999999999997, 0.83999999999999997, 0.69999999999999996, 0.85999999999999999, 0.76000000000000001, 0.76000000000000001, 0.62, 0.83999999999999997, 0.69999999999999996, 0.80000000000000004, 0.73999999999999999, 0.83999999999999997, 0.80000000000000004, 0.81999999999999995, 0.73999999999999999, 0.73999999999999999, 0.78000000000000003, 0.81999999999999995, 0.85999999999999999, 0.81999999999999995, 0.76000000000000001, 0.83999999999999997, 0.83999999999999997, 0.78000000000000003, 0.71999999999999997, 0.88, 0.78000000000000003, 0.76000000000000001, 0.80000000000000004, 0.83999999999999997, 0.88, 0.85999999999999999, 0.78000000000000003, 0.78000000000000003, 0.80000000000000004, 0.80000000000000004, 0.83999999999999997, 0.78000000000000003, 0.80000000000000004, 0.90000000000000002, 0.83999999999999997, 0.92000000000000004, 0.80000000000000004, 0.78000000000000003, 0.80000000000000004, 0.85999999999999999, 0.78000000000000003, 0.90000000000000002, 0.90000000000000002, 0.85999999999999999, 0.90000000000000002, 0.90000000000000002, 0.90000000000000002, 0.78000000000000003, 0.83999999999999997, 0.88, 0.92000000000000004, 0.81999999999999995, 0.93999999999999995, 0.81999999999999995, 0.83999999999999997, 0.81999999999999995, 0.85999999999999999, 0.88, 0.73999999999999999, 0.78000000000000003, 0.88, 0.81999999999999995, 0.85999999999999999, 0.85999999999999999, 0.83999999999999997, 0.83999999999999997, 0.81999999999999995, 0.76000000000000001, 0.80000000000000004, 0.80000000000000004, 0.88, 0.80000000000000004, 0.88, 0.83999999999999997, 0.85999999999999999, 0.81999999999999995, 0.81999999999999995, 0.92000000000000004, 0.81999999999999995, 0.83999999999999997, 0.83999999999999997, 0.76000000000000001, 0.93999999999999995, 0.83999999999999997, 0.81999999999999995, 0.81999999999999995, 0.80000000000000004, 0.76000000000000001, 0.90000000000000002, 0.76000000000000001, 0.78000000000000003, 0.80000000000000004, 0.83999999999999997, 0.81999999999999995, 0.85999999999999999, 0.88, 0.85999999999999999, 0.92000000000000004, 0.81999999999999995, 0.83999999999999997, 0.85999999999999999, 0.81999999999999995, 0.90000000000000002, 0.88, 0.83999999999999997, 0.88, 0.83999999999999997, 0.90000000000000002, 0.80000000000000004, 0.88, 0.78000000000000003, 0.76000000000000001, 0.90000000000000002, 0.90000000000000002, 0.85999999999999999, 0.83999999999999997, 0.85999999999999999, 0.88, 0.85999999999999999, 0.90000000000000002, 0.85999999999999999]\n",
    "train_size = [25051, 125051, 225051, 325051, 425051, 525051, 625051, 725051, 825051, 925051, 1025101, 1125101, 1225101, 1325101, 1425101, 1525101, 1625101, 1725101, 1825101, 1925101, 2025151, 2125151, 2225151, 2325151, 2425151, 2525151, 2625151, 2725151, 2825151, 2925151, 3025201, 3125201, 3225201, 3325201, 3425201, 3525201, 3625201, 3725201, 3825201, 3925201, 4025251, 4125251, 4225251, 4325251, 4425251, 4525251, 4625251, 4725251, 4825251, 4925251, 5025301, 5125301, 5225301, 5325301, 5425301, 5525301, 5625301, 5725301, 5825301, 5925301, 6025351, 6125351, 6225351, 6325351, 6425351, 6525351, 6625351, 6725351, 6825351, 6925351, 7025401, 7125401, 7225401, 7325401, 7425401, 7525401, 7625401, 7725401, 7825401, 7925401, 8025451, 8125451, 8225451, 8325451, 8425451, 8525451, 8625451, 8725451, 8825451, 8925451, 9025501, 9125501, 9225501, 9325501, 9425501, 9525501, 9625501, 9725501, 9825501, 9925501, 10025551, 10125551, 10225551, 10325551, 10425551, 10525551, 10625551, 10725551, 10825551, 10925551, 11025601, 11125601, 11225601, 11325601, 11425601, 11525601, 11625601, 11725601, 11825601, 11925601, 12025651, 12125651, 12225651, 12325651, 12425651, 12525651, 12625651, 12725651, 12825651, 12925651, 13025701, 13125701, 13225701, 13325701, 13425701, 13525701, 13625701, 13725701, 13825701, 13925701, 14025751, 14125751, 14225751, 14325751, 14425751, 14525751, 14625751, 14725751, 14825751, 14925751, 15025801, 15125801, 15225801, 15325801, 15425801, 15525801, 15625801, 15725801, 15825801, 15925801, 16025851, 16125851, 16225851, 16325851, 16425851, 16525851, 16625851, 16725851, 16825851, 16925851, 17025901, 17125901, 17225901, 17325901, 17425901, 17525901, 17625901, 17725901, 17825901, 17925901, 18025951, 18125951, 18225951, 18325951, 18425951, 18525951, 18625951, 18725951, 18825951, 18925951, 19026001, 19126001, 19226001, 19326001, 19426001, 19526001, 19626001, 19726001, 19826001, 19926001]"
   ]
  },
  {
   "cell_type": "code",
   "execution_count": null,
   "metadata": {},
   "outputs": [],
   "source": [
    "train_acc= [0.82, 0.8, 0.88, 0.86, 0.88, 0.9]\n",
    "train_size = [100001, 200001, 300001, 400001, 500001, 600001]"
   ]
  },
  {
   "cell_type": "code",
   "execution_count": null,
   "metadata": {},
   "outputs": [],
   "source": [
    "    plt.figure(1,figsize=(7,5))\n",
    "#     plt.plot(epochs,accuracy_patch)\n",
    "#     plt.plot(epochs, single_patch)\n",
    "#     plt.plot(epochs,accuracy_patch_honest)\n",
    "    plt.plot(train_size,train_acc)    \n",
    "    plt.xlabel('Training Size')\n",
    "    plt.ylabel(\"Accuracy\")\n",
    "    plt.title(\"SR Image\" + '( Samples:' + str(700000) + ')')\n",
    "    plt.grid(True)\n",
    "    plt.legend(['700k SR(60x60, 5 patch size)'])\n",
    "    plt.style.use(['classic'])\n",
    "    plt.show()"
   ]
  },
  {
   "cell_type": "code",
   "execution_count": 2,
   "metadata": {},
   "outputs": [
    {
     "data": {
      "text/plain": [
       "(410, 410, 410, 410)"
      ]
     },
     "execution_count": 2,
     "metadata": {},
     "output_type": "execute_result"
    }
   ],
   "source": [
    "def cumsum_sma(array, period):\n",
    "    ret = np.cumsum(array, dtype=float)\n",
    "    ret[period:] = ret[period:] - ret[:-period]\n",
    "    return ret[period - 1:] / period\n",
    "\n",
    "mask = np.array([0.00390625, 0.0703125, 0.12109375, 0.2890625, 0.3359375, 0.296875, 0.33203125, 0.390625, 0.41015625, 0.421875, 0.45703125, 0.515625, 0.42578125, 0.58203125, 0.53125, 0.546875, 0.578125, 0.54296875, 0.57421875, 0.609375, 0.62109375, 0.546875, 0.62890625, 0.66015625, 0.68359375, 0.62890625, 0.5390625, 0.6953125, 0.6640625, 0.671875, 0.69140625, 0.6796875, 0.64453125, 0.67578125, 0.69140625, 0.75, 0.71484375, 0.7265625, 0.6953125, 0.69921875, 0.765625, 0.71875, 0.71875, 0.71875, 0.73828125, 0.76171875, 0.72265625, 0.75, 0.75390625, 0.74609375, 0.734375, 0.72265625, 0.67578125, 0.75390625, 0.7734375, 0.796875, 0.75, 0.74609375, 0.7421875, 0.8125, 0.75390625, 0.78125, 0.80078125, 0.73828125, 0.76953125, 0.80078125, 0.75390625, 0.79296875, 0.82421875, 0.79296875, 0.74609375, 0.796875, 0.77734375, 0.78515625, 0.796875, 0.75390625, 0.82421875, 0.7578125, 0.84375, 0.78515625, 0.82421875, 0.84375, 0.765625, 0.73046875, 0.79296875, 0.85546875, 0.79296875, 0.7578125, 0.8515625, 0.8203125, 0.80859375, 0.83203125, 0.82421875, 0.8203125, 0.8046875, 0.8359375, 0.85546875, 0.796875, 0.79296875, 0.7890625, 0.8203125, 0.83203125, 0.81640625, 0.85546875, 0.7578125, 0.87109375, 0.8359375, 0.84375, 0.84375, 0.8515625, 0.8046875, 0.78515625, 0.828125, 0.84765625, 0.78125, 0.85546875, 0.8046875, 0.8359375, 0.859375, 0.80078125, 0.8671875, 0.8203125, 0.8359375, 0.77734375, 0.8359375, 0.859375, 0.8515625, 0.87109375, 0.8671875, 0.83984375, 0.8671875, 0.82421875, 0.875, 0.84765625, 0.84765625, 0.82421875, 0.82421875, 0.8515625, 0.859375, 0.8671875, 0.83203125, 0.8359375, 0.8203125, 0.8671875, 0.86328125, 0.87890625, 0.859375, 0.875, 0.83203125, 0.859375, 0.83984375, 0.89453125, 0.8203125, 0.83984375, 0.84765625, 0.85546875, 0.89453125, 0.890625, 0.8203125, 0.8984375, 0.84375, 0.84765625, 0.8515625, 0.87109375, 0.87109375, 0.83984375, 0.86328125, 0.89453125, 0.8828125, 0.83984375, 0.875, 0.8203125, 0.83984375, 0.91015625, 0.875, 0.8515625, 0.88671875, 0.8515625, 0.890625, 0.8828125, 0.90234375, 0.875, 0.85546875, 0.8828125, 0.87890625, 0.8671875, 0.859375, 0.90625, 0.890625, 0.89453125, 0.8828125, 0.85546875, 0.88671875, 0.859375, 0.86328125, 0.88671875, 0.875, 0.87890625, 0.89453125, 0.87890625, 0.87109375, 0.8671875, 0.91015625, 0.87890625, 0.88671875, 0.8828125, 0.87890625, 0.9140625, 0.875, 0.89453125, 0.90625, 0.88671875, 0.85546875, 0.87890625, 0.87109375, 0.90625, 0.8671875, 0.859375, 0.8671875, 0.85546875, 0.890625, 0.87890625, 0.88671875, 0.88671875, 0.90625, 0.91796875, 0.88671875, 0.86328125, 0.88671875, 0.8828125, 0.89453125, 0.859375, 0.88671875, 0.8828125, 0.89453125, 0.8828125, 0.90625, 0.91015625, 0.8984375, 0.90625, 0.83984375, 0.8984375, 0.90234375, 0.8984375, 0.89453125, 0.8984375, 0.875, 0.8671875, 0.90234375, 0.8984375, 0.91015625, 0.91796875, 0.89453125, 0.9140625, 0.89453125, 0.88671875, 0.88671875, 0.9140625, 0.91015625, 0.8984375, 0.85546875, 0.859375, 0.8828125, 0.8828125, 0.8828125, 0.890625, 0.8671875, 0.90234375, 0.890625, 0.88671875, 0.91015625, 0.90625, 0.88671875, 0.875, 0.87890625, 0.91796875, 0.8828125, 0.90234375, 0.8671875, 0.91796875, 0.875, 0.90625, 0.89453125, 0.87890625, 0.90625, 0.88671875, 0.8984375, 0.9375, 0.921875, 0.91015625, 0.90234375, 0.890625, 0.875, 0.91015625, 0.9140625, 0.890625, 0.8984375, 0.90234375, 0.9140625, 0.8984375, 0.92578125, 0.890625, 0.8984375, 0.8984375, 0.9140625, 0.88671875, 0.8828125, 0.90625, 0.8828125, 0.91796875, 0.88671875, 0.90234375, 0.890625, 0.88671875, 0.9140625, 0.88671875, 0.89453125, 0.890625, 0.91796875, 0.8828125, 0.88671875, 0.890625, 0.8828125, 0.91015625, 0.91796875, 0.91015625, 0.90625, 0.8828125, 0.9375, 0.93359375, 0.90625, 0.91796875, 0.9140625, 0.91796875, 0.890625, 0.90625, 0.93359375, 0.8828125, 0.91796875, 0.90625, 0.93359375, 0.921875, 0.91015625, 0.91796875, 0.94921875, 0.90625, 0.90234375, 0.8984375, 0.8671875, 0.92578125, 0.92578125, 0.88671875, 0.89453125, 0.85546875, 0.9140625, 0.95703125, 0.89453125, 0.89453125, 0.94140625, 0.9296875, .921875, 0.8828125, 0.91015625, 0.93359375, 0.90234375, 0.90625, 0.9453125, 0.91015625, 0.93359375, 0.91015625, 0.8984375, 0.91796875, 0.90625, 0.90625, 0.9375, 0.92578125, 0.8984375, 0.9140625, 0.9375, 0.9453125, 0.91796875, 0.93359375, 0.94140625, 0.92578125, 0.92578125, 0.9140625, 0.91015625, 0.87109375, 0.9140625, 0.8984375, 0.87890625, 0.8828125, 0.953125, 0.9140625, 0.90234375, 0.90234375, 0.9453125, 0.92578125, 0.91796875, 0.89453125, 0.91796875, 0.9296875, 0.93359375, 0.94921875, 0.921875, 0.93359375, 0.8984375, 0.91015625, 0.8984375, 0.92578125])\n",
    "mask_sd = np.array([0.4921875, 0.5078125, 0.609375, 0.69140625, 0.6875, 0.78125, 0.74609375, 0.7734375, 0.78515625, 0.76171875, 0.79296875, 0.75390625, 0.78515625, 0.8046875, 0.79296875, 0.765625, 0.8125, 0.76953125, 0.82421875, 0.78515625, 0.828125, 0.8046875, 0.78125, 0.8203125, 0.85546875, 0.828125, 0.8125, 0.78515625, 0.8203125, 0.8515625, 0.8046875, 0.81640625, 0.80078125, 0.8125, 0.83984375, 0.83203125, 0.83203125, 0.87109375, 0.796875, 0.8828125, 0.84765625, 0.81640625, 0.83984375, 0.83984375, 0.8671875, 0.81640625, 0.8515625, 0.87109375, 0.84765625, 0.84375, 0.8515625, 0.83984375, 0.83203125, 0.8671875, 0.85546875, 0.86328125, 0.828125, 0.85546875, 0.87890625, 0.83203125, 0.84765625, 0.8359375, 0.85546875, 0.83984375, 0.83203125, 0.875, 0.80859375, 0.875, 0.8203125, 0.84765625, 0.83203125, 0.86328125, 0.859375, 0.8828125, 0.8359375, 0.8359375, 0.82421875, 0.85546875, 0.84375, 0.84375, 0.85546875, 0.90234375, 0.8515625, 0.8203125, 0.84375, 0.85546875, 0.85546875, 0.8359375, 0.84765625, 0.90234375, 0.85546875, 0.84375, 0.875, 0.82421875, 0.8515625, 0.83203125, 0.8515625, 0.875, 0.859375, 0.80859375, 0.8671875, 0.8671875, 0.859375, 0.8359375, 0.859375, 0.84765625, 0.85546875, 0.85546875, 0.859375, 0.83984375, 0.85546875, 0.84765625, 0.87890625, 0.84375, 0.84765625, 0.8515625, 0.82421875, 0.875, 0.84375, 0.8515625, 0.859375, 0.86328125, 0.8359375, 0.85546875, 0.828125, 0.859375, 0.828125, 0.8828125, 0.90234375, 0.87890625, 0.84765625, 0.84375, 0.859375, 0.828125, 0.875, 0.85546875, 0.88671875, 0.859375, 0.8671875, 0.8671875, 0.8671875, 0.8515625, 0.84375, 0.859375, 0.859375, 0.82421875, 0.859375, 0.859375, 0.83203125, 0.87890625, 0.80859375, 0.90234375, 0.87109375, 0.90234375, 0.91015625, 0.86328125, 0.87109375, 0.84765625, 0.90234375, 0.87109375, 0.875, 0.88671875, 0.84765625, 0.82421875, 0.83203125, 0.85546875, 0.83984375, 0.875, 0.87890625, 0.8828125, 0.82421875, 0.8671875, 0.8671875, 0.8828125, 0.8671875, 0.88671875, 0.890625, 0.85546875, 0.8671875, 0.875, 0.875, 0.86328125, 0.84765625, 0.84765625, 0.89453125, 0.8984375, 0.89453125, 0.8671875, 0.85546875, 0.859375, 0.85546875, 0.890625, 0.828125, 0.8671875, 0.87890625, 0.875, 0.87890625, 0.88671875, 0.82421875, 0.85546875, 0.82421875, 0.89453125, 0.83984375, 0.859375, 0.91015625, 0.875, 0.84375, 0.890625, 0.84765625, 0.8671875, 0.88671875, 0.875, 0.87109375, 0.87109375, 0.87109375, 0.83203125, 0.81640625, 0.8203125, 0.87890625, 0.88671875, 0.890625, 0.875, 0.8828125, 0.8828125, 0.8828125, 0.875, 0.859375, 0.86328125, 0.86328125, 0.875, 0.87890625, 0.8671875, 0.87109375, 0.8828125, 0.86328125, 0.859375, 0.84765625, 0.87890625, 0.84765625, 0.875, 0.86328125, 0.875, 0.875, 0.83984375, 0.88671875, 0.87890625, 0.87109375, 0.84765625, 0.87890625, 0.84375, 0.87890625, 0.87109375, 0.890625, 0.8359375, 0.8203125, 0.84765625, 0.8671875, 0.83203125, 0.84765625, 0.84375, 0.84765625, 0.8671875, 0.85546875, 0.859375, 0.87890625, 0.890625, 0.8359375, 0.85546875, 0.8515625, 0.8671875, 0.8671875, 0.875, 0.83203125, 0.8828125, 0.8671875, 0.87109375, 0.85546875, 0.84765625, 0.8359375, 0.85546875, 0.875, 0.87109375, 0.875, 0.82421875, 0.8359375, 0.875, 0.85546875, 0.875, 0.890625, 0.8515625, 0.87109375, 0.89453125, 0.85546875, 0.88671875, 0.890625, 0.8515625, 0.83984375, 0.890625, 0.859375, 0.859375, 0.87890625, 0.859375, 0.890625, 0.8828125, 0.84375, 0.83203125, 0.81640625, 0.87890625, 0.8984375, 0.86328125, 0.8828125, 0.89453125, 0.88671875, 0.87890625, 0.91015625, 0.83203125, 0.85546875, 0.86328125, 0.86328125, 0.85546875, 0.84375, 0.8359375, 0.859375, 0.8671875, 0.87890625, 0.90625, 0.859375, 0.87109375, 0.90234375, 0.87109375, 0.90625, 0.88671875, 0.9140625, 0.83984375, 0.828125, 0.875, 0.8828125, 0.8515625, 0.890625, 0.88671875, 0.87890625, 0.85546875, 0.875, 0.83203125, 0.8828125, 0.8828125, 0.9140625, 0.859375, 0.85546875, 0.859375, 0.87109375, 0.87890625, 0.87109375, 0.8671875, 0.88671875, 0.859375, 0.85546875, 0.84375, 0.84765625, 0.88671875, 0.83203125, 0.90234375, 0.87109375, 0.87109375, 0.859375, 0.91015625, 0.90234375, 0.84765625, 0.83984375, 0.8515625, 0.84375, 0.859375, 0.91015625, 0.8984375, 0.859375, 0.84375, 0.859375, 0.83984375, 0.859375, 0.8359375, 0.83984375, 0.875, 0.86328125, 0.87109375, 0.83984375, 0.8671875, 0.859375, 0.86328125, 0.87109375, 0.859375, 0.890625, 0.86328125, 0.91015625, 0.8828125, 0.828125, 0.8984375, 0.8828125, 0.8828125, 0.89453125, 0.86328125, 0.88671875, 0.87890625, 0.8671875, 0.84765625, 0.86328125, 0.83984375, 0.88671875, 0.83984375, 0.84765625, 0.88671875])\n",
    "sd = np.array([0.48828125, 0.51171875, 0.5078125, 0.4765625, 0.421875, 0.45703125, 0.54296875, 0.51171875, 0.5390625, 0.515625, 0.47265625, 0.42578125, 0.4453125, 0.51171875, 0.39453125, 0.5, 0.453125, 0.47265625, 0.45703125, 0.56640625, 0.53125, 0.51171875, 0.49609375, 0.44921875, 0.43359375, 0.5078125, 0.453125, 0.48046875, 0.53125, 0.51953125, 0.46484375, 0.5, 0.46484375, 0.5546875, 0.61328125, 0.6875, 0.7265625, 0.66796875, 0.75390625, 0.68359375, 0.734375, 0.66796875, 0.74609375, 0.7421875, 0.7890625, 0.76171875, 0.77734375, 0.796875, 0.7578125, 0.75, 0.7890625, 0.75390625, 0.75, 0.7421875, 0.83984375, 0.75390625, 0.8203125, 0.78515625, 0.8125, 0.80859375, 0.78515625, 0.78515625, 0.8125, 0.7734375, 0.828125, 0.796875, 0.86328125, 0.8046875, 0.84765625, 0.80859375, 0.828125, 0.828125, 0.79296875, 0.828125, 0.796875, 0.81640625, 0.83203125, 0.82421875, 0.83203125, 0.84375, 0.796875, 0.85546875, 0.828125, 0.79296875, 0.80078125, 0.83984375, 0.81640625, 0.8203125, 0.83984375, 0.83203125, 0.84375, 0.85546875, 0.8203125, 0.82421875, 0.78515625, 0.828125, 0.828125, 0.8203125, 0.80078125, 0.8359375, 0.8359375, 0.8046875, 0.82421875, 0.80078125, 0.84765625, 0.84765625, 0.83203125, 0.81640625, 0.82421875, 0.77734375, 0.84765625, 0.84375, 0.8359375, 0.8359375, 0.83984375, 0.8203125, 0.86328125, 0.83203125, 0.8515625, 0.85546875, 0.81640625, 0.83984375, 0.82421875, 0.828125, 0.828125, 0.8359375, 0.86328125, 0.85546875, 0.8359375, 0.8515625, 0.8515625, 0.8046875, 0.83203125, 0.859375, 0.8515625, 0.86328125, 0.84375, 0.81640625, 0.82421875, 0.859375, 0.8359375, 0.87109375, 0.83984375, 0.82421875, 0.87890625, 0.83984375, 0.84375, 0.86328125, 0.8671875, 0.88671875, 0.83984375, 0.8046875, 0.859375, 0.88671875, 0.8125, 0.84765625, 0.84375, 0.8515625, 0.83984375, 0.84765625, 0.796875, 0.82421875, 0.82421875, 0.890625, 0.87890625, 0.82421875, 0.87109375, 0.85546875, 0.84765625, 0.828125, 0.8671875, 0.84375, 0.87890625, 0.8828125, 0.875, 0.8125, 0.875, 0.82421875, 0.8359375, 0.8046875, 0.875, 0.859375, 0.828125, 0.84765625, 0.859375, 0.84765625, 0.87890625, 0.85546875, 0.8828125, 0.8359375, 0.828125, 0.8046875, 0.84375, 0.83984375, 0.859375, 0.796875, 0.84765625, 0.8671875, 0.85546875, 0.87890625, 0.85546875, 0.81640625, 0.82421875, 0.86328125, 0.84765625, 0.8515625, 0.83984375, 0.8671875, 0.8515625, 0.83203125, 0.83984375, 0.8828125, 0.83203125, 0.81640625, 0.8671875, 0.8515625, 0.8984375, 0.828125, 0.87109375, 0.8515625, 0.8203125, 0.87109375, 0.85546875, 0.875, 0.8359375, 0.79296875, 0.84375, 0.84765625, 0.8515625, 0.8203125, 0.87890625, 0.84375, 0.8359375, 0.81640625, 0.85546875, 0.8359375, 0.8671875, 0.8203125, 0.84765625, 0.84765625, 0.85546875, 0.875, 0.8125, 0.89453125, 0.84375, 0.8359375, 0.84375, 0.859375, 0.83984375, 0.88671875, 0.8828125, 0.83203125, 0.8671875, 0.84765625, 0.875, 0.84765625, 0.86328125, 0.8984375, 0.86328125, 0.859375, 0.8828125, 0.84765625, 0.8203125, 0.83984375, 0.859375, 0.81640625, 0.88671875, 0.87890625, 0.86328125, 0.8046875, 0.8515625, 0.8828125, 0.8984375, 0.84765625, 0.82421875, 0.86328125, 0.828125, 0.87890625, 0.82421875, 0.8046875, 0.8828125, 0.87890625, 0.87109375, 0.8359375, 0.83984375, 0.87890625, 0.8828125, 0.86328125, 0.86328125, 0.90625, 0.8671875, 0.88671875, 0.83203125, 0.84765625, 0.83984375, 0.83203125, 0.875, 0.875, 0.88671875, 0.8125, 0.84375, 0.875, 0.8203125, 0.86328125, 0.86328125, 0.8515625, 0.83203125, 0.84375, 0.828125, 0.86328125, 0.8984375, 0.8515625, 0.87890625, 0.8203125, 0.87109375, 0.859375, 0.85546875, 0.90625, 0.87890625, 0.87890625, 0.8515625, 0.796875, 0.88671875, 0.8515625, 0.8046875, 0.87109375, 0.8671875, 0.85546875, 0.828125, 0.890625, 0.83984375, 0.8671875, 0.8671875, 0.875, 0.84375, 0.87109375, 0.90234375, 0.88671875, 0.83984375, 0.87109375, 0.87890625, 0.84375, 0.8515625, 0.8046875, 0.89453125, 0.828125, 0.8671875, 0.84765625, 0.859375, 0.84765625, 0.89453125, 0.875, 0.8671875, 0.8515625, 0.8359375, 0.859375, 0.88671875, 0.84375, 0.8671875, 0.83984375, 0.8125, 0.8515625, 0.8515625, 0.87109375, 0.87109375, 0.8125, 0.88671875, 0.83203125, 0.87109375, 0.87890625, 0.83203125, 0.87890625, 0.87109375, 0.87109375, 0.84375, 0.84375, 0.89453125, 0.89453125, 0.84765625, 0.87109375, 0.85546875, 0.890625, 0.83984375, 0.890625, 0.84375, 0.8515625, 0.890625, 0.8828125, 0.8203125, 0.8828125, 0.80859375, 0.87109375, 0.86328125, 0.87109375, 0.8515625, 0.8203125, 0.859375, 0.86328125, 0.8359375, 0.85546875, 0.86328125, 0.88671875, 0.8671875, 0.91796875, 0.86328125, 0.8671875, 0.859375, 0.84375, 0.828125, 0.828125])\n",
    "sr = np.array([0.84375, 0.84765625, 0.85546875, 0.84765625, 0.8515625, 0.84375, 0.86328125, 0.80078125, 0.85546875, 0.8515625, 0.85546875, 0.8203125, 0.875, 0.8515625, 0.8515625, 0.87109375, 0.84375, 0.84765625, 0.84375, 0.85546875, 0.87890625, 0.83203125, 0.87109375, 0.87890625, 0.8515625, 0.8359375, 0.828125, 0.81640625, 0.87109375, 0.84765625, 0.875, 0.859375, 0.84375, 0.8203125, 0.87890625, 0.859375, 0.84765625, 0.89453125, 0.86328125, 0.85546875, 0.83984375, 0.8515625, 0.87109375, 0.85546875, 0.89453125, 0.859375, 0.890625, 0.8515625, 0.86328125, 0.83984375, 0.84765625, 0.828125, 0.875, 0.8828125, 0.8359375, 0.83203125, 0.84375, 0.859375, 0.8359375, 0.859375, 0.88671875, 0.83203125, 0.8671875, 0.85546875, 0.8359375, 0.875, 0.8515625, 0.8359375, 0.87890625, 0.87109375, 0.8828125, 0.8359375, 0.87890625, 0.8515625, 0.90234375, 0.87109375, 0.89453125, 0.84375, 0.83984375, 0.8515625, 0.87109375, 0.89453125, 0.8671875, 0.86328125, 0.8828125, 0.859375, 0.87890625, 0.890625, 0.875, 0.86328125, 0.81640625, 0.875, 0.859375, 0.85546875, 0.859375, 0.84765625, 0.8515625, 0.84765625, 0.85546875, 0.84375, 0.859375, 0.859375, 0.87890625, 0.82421875, 0.828125, 0.84375, 0.89453125, 0.83984375, 0.84375, 0.82421875, 0.83203125, 0.86328125, 0.828125, 0.8359375, 0.88671875, 0.85546875, 0.87890625, 0.8515625, 0.88671875, 0.85546875, 0.89453125, 0.87890625, 0.84765625, 0.87109375, 0.83203125, 0.8828125, 0.85546875, 0.875, 0.8828125, 0.87109375, 0.8515625, 0.8984375, 0.83984375, 0.89453125, 0.86328125, 0.87109375, 0.83984375, 0.8828125, 0.89453125, 0.8515625, 0.859375, 0.828125, 0.91796875, 0.87890625, 0.83203125, 0.828125, 0.84765625, 0.8671875, 0.88671875, 0.86328125, 0.83984375, 0.85546875, 0.890625, 0.8125, 0.83984375, 0.86328125, 0.8828125, 0.87890625, 0.84765625, 0.87109375, 0.8671875, 0.85546875, 0.875, 0.890625, 0.87890625, 0.85546875, 0.87890625, 0.85546875, 0.86328125, 0.8984375, 0.89453125, 0.82421875, 0.89453125, 0.9140625, 0.87890625, 0.8359375, 0.890625, 0.85546875, 0.875, 0.84765625, 0.8671875, 0.87109375, 0.8828125, 0.875, 0.890625, 0.87109375, 0.90234375, 0.90625, 0.83984375, 0.890625, 0.82421875, 0.84375, 0.89453125, 0.890625, 0.86328125, 0.90625, 0.84765625, 0.86328125, 0.85546875, 0.875, 0.90234375, 0.87109375, 0.84765625, 0.85546875, 0.8828125, 0.85546875, 0.84765625, 0.89453125, 0.859375, 0.88671875, 0.87890625, 0.86328125, 0.8671875, 0.8046875, 0.84375, 0.87890625, 0.890625, 0.8359375, 0.8671875, 0.89453125, 0.8515625, 0.8984375, 0.87109375, 0.87109375, 0.89453125, 0.859375, 0.91796875, 0.87890625, 0.87890625, 0.91015625, 0.84765625, 0.84765625, 0.89453125, 0.85546875, 0.87890625, 0.8828125, 0.84375, 0.9296875, 0.8671875, 0.8671875, 0.87109375, 0.85546875, 0.85546875, 0.8359375, 0.84765625, 0.828125, 0.8359375, 0.890625, 0.828125, 0.8671875, 0.91015625, 0.87109375, 0.890625, 0.89453125, 0.87890625, 0.8984375, 0.83203125, 0.90625, 0.88671875, 0.859375, 0.83203125, 0.84765625, 0.87109375, 0.890625, 0.8828125, 0.875, 0.859375, 0.91015625, 0.8828125, 0.88671875, 0.8125, 0.875, 0.875, 0.828125, 0.890625, 0.84765625, 0.85546875, 0.859375, 0.87109375, 0.86328125, 0.859375, 0.875, 0.859375, 0.90234375, 0.87109375, 0.890625, 0.84375, 0.890625, 0.87890625, 0.86328125, 0.8671875, 0.87109375, 0.875, 0.84765625, 0.84375, 0.90234375, 0.859375, 0.828125, 0.8984375, 0.859375, 0.87109375, 0.859375, 0.90625, 0.8984375, 0.8125, 0.87890625, 0.875, 0.88671875, 0.83203125, 0.8671875, 0.87890625, 0.890625, 0.86328125, 0.859375, 0.91796875, 0.87890625, 0.90234375, 0.87890625, 0.86328125, 0.875, 0.859375, 0.83984375, 0.859375, 0.8671875, 0.87890625, 0.8984375, 0.890625, 0.875, 0.88671875, 0.87890625, 0.87890625, 0.875, 0.8671875, 0.890625, 0.90625, 0.8671875, 0.8984375, 0.83984375, 0.86328125, 0.859375, 0.8828125, 0.8828125, 0.86328125, 0.8359375, 0.87109375, 0.9140625, 0.91015625, 0.8984375, 0.859375, 0.86328125, 0.86328125, 0.88671875, 0.8828125, 0.84765625, 0.89453125, 0.875, 0.87109375, 0.875, 0.875, 0.8515625, 0.87109375, 0.84765625, 0.83984375, 0.8671875, 0.875, 0.8203125, 0.8671875, 0.84375, 0.875, 0.890625, 0.87890625, 0.86328125, 0.89453125, 0.890625, 0.87890625, 0.85546875, 0.859375, 0.875, 0.859375, 0.86328125, 0.890625, 0.85546875, 0.87890625, 0.87890625, 0.859375, 0.84375, 0.8984375, 0.88671875, 0.87109375, 0.89453125, 0.875, 0.84765625, 0.8515625, 0.890625, 0.8671875, 0.84765625, 0.8984375, 0.8515625, 0.859375, 0.8828125, 0.875, 0.875, 0.87890625, 0.8671875, 0.875, 0.87109375, 0.86328125, 0.87109375, 0.8671875, 0.90625])\n",
    "\n",
    "len(mask), len(mask_sd), len(sd), len(sr)\n",
    "\n",
    "# print(cumsum_sma(mask_sd, 100))\n",
    "\n"
   ]
  },
  {
   "cell_type": "code",
   "execution_count": 3,
   "metadata": {},
   "outputs": [
    {
     "data": {
      "image/png": "[encoded data removed]",
      "text/plain": [
       "<Figure size 2160x720 with 1 Axes>"
      ]
     },
     "metadata": {},
     "output_type": "display_data"
    }
   ],
   "source": [
    "mask = np.array([0.00390625, 0.0703125, 0.12109375, 0.2890625, 0.3359375, 0.296875, 0.33203125, 0.390625, 0.41015625, 0.421875, 0.45703125, 0.515625, 0.42578125, 0.58203125, 0.53125, 0.546875, 0.578125, 0.54296875, 0.57421875, 0.609375, 0.62109375, 0.546875, 0.62890625, 0.66015625, 0.68359375, 0.62890625, 0.5390625, 0.6953125, 0.6640625, 0.671875, 0.69140625, 0.6796875, 0.64453125, 0.67578125, 0.69140625, 0.75, 0.71484375, 0.7265625, 0.6953125, 0.69921875, 0.765625, 0.71875, 0.71875, 0.71875, 0.73828125, 0.76171875, 0.72265625, 0.75, 0.75390625, 0.74609375, 0.734375, 0.72265625, 0.67578125, 0.75390625, 0.7734375, 0.796875, 0.75, 0.74609375, 0.7421875, 0.8125, 0.75390625, 0.78125, 0.80078125, 0.73828125, 0.76953125, 0.80078125, 0.75390625, 0.79296875, 0.82421875, 0.79296875, 0.74609375, 0.796875, 0.77734375, 0.78515625, 0.796875, 0.75390625, 0.82421875, 0.7578125, 0.84375, 0.78515625, 0.82421875, 0.84375, 0.765625, 0.73046875, 0.79296875, 0.85546875, 0.79296875, 0.7578125, 0.8515625, 0.8203125, 0.80859375, 0.83203125, 0.82421875, 0.8203125, 0.8046875, 0.8359375, 0.85546875, 0.796875, 0.79296875, 0.7890625, 0.8203125, 0.83203125, 0.81640625, 0.85546875, 0.7578125, 0.87109375, 0.8359375, 0.84375, 0.84375, 0.8515625, 0.8046875, 0.78515625, 0.828125, 0.84765625, 0.78125, 0.85546875, 0.8046875, 0.8359375, 0.859375, 0.80078125, 0.8671875, 0.8203125, 0.8359375, 0.77734375, 0.8359375, 0.859375, 0.8515625, 0.87109375, 0.8671875, 0.83984375, 0.8671875, 0.82421875, 0.875, 0.84765625, 0.84765625, 0.82421875, 0.82421875, 0.8515625, 0.859375, 0.8671875, 0.83203125, 0.8359375, 0.8203125, 0.8671875, 0.86328125, 0.87890625, 0.859375, 0.875, 0.83203125, 0.859375, 0.83984375, 0.89453125, 0.8203125, 0.83984375, 0.84765625, 0.85546875, 0.89453125, 0.890625, 0.8203125, 0.8984375, 0.84375, 0.84765625, 0.8515625, 0.87109375, 0.87109375, 0.83984375, 0.86328125, 0.89453125, 0.8828125, 0.83984375, 0.875, 0.8203125, 0.83984375, 0.91015625, 0.875, 0.8515625, 0.88671875, 0.8515625, 0.890625, 0.8828125, 0.90234375, 0.875, 0.85546875, 0.8828125, 0.87890625, 0.8671875, 0.859375, 0.90625, 0.890625, 0.89453125, 0.8828125, 0.85546875, 0.88671875, 0.859375, 0.86328125, 0.88671875, 0.875, 0.87890625, 0.89453125, 0.87890625, 0.87109375, 0.8671875, 0.91015625, 0.87890625, 0.88671875, 0.8828125, 0.87890625, 0.9140625, 0.875, 0.89453125, 0.90625, 0.88671875, 0.85546875, 0.87890625, 0.87109375, 0.90625, 0.8671875, 0.859375, 0.8671875, 0.85546875, 0.890625, 0.87890625, 0.88671875, 0.88671875, 0.90625, 0.91796875, 0.88671875, 0.86328125, 0.88671875, 0.8828125, 0.89453125, 0.859375, 0.88671875, 0.8828125, 0.89453125, 0.8828125, 0.90625, 0.91015625, 0.8984375, 0.90625, 0.83984375, 0.8984375, 0.90234375, 0.8984375, 0.89453125, 0.8984375, 0.875, 0.8671875, 0.90234375, 0.8984375, 0.91015625, 0.91796875, 0.89453125, 0.9140625, 0.89453125, 0.88671875, 0.88671875, 0.9140625, 0.91015625, 0.8984375, 0.85546875, 0.859375, 0.8828125, 0.8828125, 0.8828125, 0.890625, 0.8671875, 0.90234375, 0.890625, 0.88671875, 0.91015625, 0.90625, 0.88671875, 0.875, 0.87890625, 0.91796875, 0.8828125, 0.90234375, 0.8671875, 0.91796875, 0.875, 0.90625, 0.89453125, 0.87890625, 0.90625, 0.88671875, 0.8984375, 0.9375, 0.921875, 0.91015625, 0.90234375, 0.890625, 0.875, 0.91015625, 0.9140625, 0.890625, 0.8984375, 0.90234375, 0.9140625, 0.8984375, 0.92578125, 0.890625, 0.8984375, 0.8984375, 0.9140625, 0.88671875, 0.8828125, 0.90625, 0.8828125, 0.91796875, 0.88671875, 0.90234375, 0.890625, 0.88671875, 0.9140625, 0.88671875, 0.89453125, 0.890625, 0.91796875, 0.8828125, 0.88671875, 0.890625, 0.8828125, 0.91015625, 0.91796875, 0.91015625, 0.90625, 0.8828125, 0.9375, 0.93359375, 0.90625, 0.91796875, 0.9140625, 0.91796875, 0.890625, 0.90625, 0.93359375, 0.8828125, 0.91796875, 0.90625, 0.93359375, 0.921875, 0.91015625, 0.91796875, 0.94921875, 0.90625, 0.90234375, 0.8984375, 0.8671875, 0.92578125, 0.92578125, 0.88671875, 0.89453125, 0.85546875, 0.9140625, 0.95703125, 0.89453125, 0.89453125, 0.94140625, 0.9296875, .921875, 0.8828125, 0.91015625, 0.93359375, 0.90234375, 0.90625, 0.9453125, 0.91015625, 0.93359375, 0.91015625, 0.8984375, 0.91796875, 0.90625, 0.90625, 0.9375, 0.92578125, 0.8984375, 0.9140625, 0.9375, 0.9453125, 0.91796875, 0.93359375, 0.94140625, 0.92578125, 0.92578125, 0.9140625, 0.91015625, 0.87109375, 0.9140625, 0.8984375, 0.87890625, 0.8828125, 0.953125, 0.9140625, 0.90234375, 0.90234375, 0.9453125, 0.92578125, 0.91796875, 0.89453125, 0.91796875, 0.9296875, 0.93359375, 0.94921875, 0.921875, 0.93359375, 0.8984375, 0.91015625, 0.8984375, 0.92578125])\n",
    "mask_sd = np.array([0.4921875, 0.5078125, 0.609375, 0.69140625, 0.6875, 0.78125, 0.74609375, 0.7734375, 0.78515625, 0.76171875, 0.79296875, 0.75390625, 0.78515625, 0.8046875, 0.79296875, 0.765625, 0.8125, 0.76953125, 0.82421875, 0.78515625, 0.828125, 0.8046875, 0.78125, 0.8203125, 0.85546875, 0.828125, 0.8125, 0.78515625, 0.8203125, 0.8515625, 0.8046875, 0.81640625, 0.80078125, 0.8125, 0.83984375, 0.83203125, 0.83203125, 0.87109375, 0.796875, 0.8828125, 0.84765625, 0.81640625, 0.83984375, 0.83984375, 0.8671875, 0.81640625, 0.8515625, 0.87109375, 0.84765625, 0.84375, 0.8515625, 0.83984375, 0.83203125, 0.8671875, 0.85546875, 0.86328125, 0.828125, 0.85546875, 0.87890625, 0.83203125, 0.84765625, 0.8359375, 0.85546875, 0.83984375, 0.83203125, 0.875, 0.80859375, 0.875, 0.8203125, 0.84765625, 0.83203125, 0.86328125, 0.859375, 0.8828125, 0.8359375, 0.8359375, 0.82421875, 0.85546875, 0.84375, 0.84375, 0.85546875, 0.90234375, 0.8515625, 0.8203125, 0.84375, 0.85546875, 0.85546875, 0.8359375, 0.84765625, 0.90234375, 0.85546875, 0.84375, 0.875, 0.82421875, 0.8515625, 0.83203125, 0.8515625, 0.875, 0.859375, 0.80859375, 0.8671875, 0.8671875, 0.859375, 0.8359375, 0.859375, 0.84765625, 0.85546875, 0.85546875, 0.859375, 0.83984375, 0.85546875, 0.84765625, 0.87890625, 0.84375, 0.84765625, 0.8515625, 0.82421875, 0.875, 0.84375, 0.8515625, 0.859375, 0.86328125, 0.8359375, 0.85546875, 0.828125, 0.859375, 0.828125, 0.8828125, 0.90234375, 0.87890625, 0.84765625, 0.84375, 0.859375, 0.828125, 0.875, 0.85546875, 0.88671875, 0.859375, 0.8671875, 0.8671875, 0.8671875, 0.8515625, 0.84375, 0.859375, 0.859375, 0.82421875, 0.859375, 0.859375, 0.83203125, 0.87890625, 0.80859375, 0.90234375, 0.87109375, 0.90234375, 0.91015625, 0.86328125, 0.87109375, 0.84765625, 0.90234375, 0.87109375, 0.875, 0.88671875, 0.84765625, 0.82421875, 0.83203125, 0.85546875, 0.83984375, 0.875, 0.87890625, 0.8828125, 0.82421875, 0.8671875, 0.8671875, 0.8828125, 0.8671875, 0.88671875, 0.890625, 0.85546875, 0.8671875, 0.875, 0.875, 0.86328125, 0.84765625, 0.84765625, 0.89453125, 0.8984375, 0.89453125, 0.8671875, 0.85546875, 0.859375, 0.85546875, 0.890625, 0.828125, 0.8671875, 0.87890625, 0.875, 0.87890625, 0.88671875, 0.82421875, 0.85546875, 0.82421875, 0.89453125, 0.83984375, 0.859375, 0.91015625, 0.875, 0.84375, 0.890625, 0.84765625, 0.8671875, 0.88671875, 0.875, 0.87109375, 0.87109375, 0.87109375, 0.83203125, 0.81640625, 0.8203125, 0.87890625, 0.88671875, 0.890625, 0.875, 0.8828125, 0.8828125, 0.8828125, 0.875, 0.859375, 0.86328125, 0.86328125, 0.875, 0.87890625, 0.8671875, 0.87109375, 0.8828125, 0.86328125, 0.859375, 0.84765625, 0.87890625, 0.84765625, 0.875, 0.86328125, 0.875, 0.875, 0.83984375, 0.88671875, 0.87890625, 0.87109375, 0.84765625, 0.87890625, 0.84375, 0.87890625, 0.87109375, 0.890625, 0.8359375, 0.8203125, 0.84765625, 0.8671875, 0.83203125, 0.84765625, 0.84375, 0.84765625, 0.8671875, 0.85546875, 0.859375, 0.87890625, 0.890625, 0.8359375, 0.85546875, 0.8515625, 0.8671875, 0.8671875, 0.875, 0.83203125, 0.8828125, 0.8671875, 0.87109375, 0.85546875, 0.84765625, 0.8359375, 0.85546875, 0.875, 0.87109375, 0.875, 0.82421875, 0.8359375, 0.875, 0.85546875, 0.875, 0.890625, 0.8515625, 0.87109375, 0.89453125, 0.85546875, 0.88671875, 0.890625, 0.8515625, 0.83984375, 0.890625, 0.859375, 0.859375, 0.87890625, 0.859375, 0.890625, 0.8828125, 0.84375, 0.83203125, 0.81640625, 0.87890625, 0.8984375, 0.86328125, 0.8828125, 0.89453125, 0.88671875, 0.87890625, 0.91015625, 0.83203125, 0.85546875, 0.86328125, 0.86328125, 0.85546875, 0.84375, 0.8359375, 0.859375, 0.8671875, 0.87890625, 0.90625, 0.859375, 0.87109375, 0.90234375, 0.87109375, 0.90625, 0.88671875, 0.9140625, 0.83984375, 0.828125, 0.875, 0.8828125, 0.8515625, 0.890625, 0.88671875, 0.87890625, 0.85546875, 0.875, 0.83203125, 0.8828125, 0.8828125, 0.9140625, 0.859375, 0.85546875, 0.859375, 0.87109375, 0.87890625, 0.87109375, 0.8671875, 0.88671875, 0.859375, 0.85546875, 0.84375, 0.84765625, 0.88671875, 0.83203125, 0.90234375, 0.87109375, 0.87109375, 0.859375, 0.91015625, 0.90234375, 0.84765625, 0.83984375, 0.8515625, 0.84375, 0.859375, 0.91015625, 0.8984375, 0.859375, 0.84375, 0.859375, 0.83984375, 0.859375, 0.8359375, 0.83984375, 0.875, 0.86328125, 0.87109375, 0.83984375, 0.8671875, 0.859375, 0.86328125, 0.87109375, 0.859375, 0.890625, 0.86328125, 0.91015625, 0.8828125, 0.828125, 0.8984375, 0.8828125, 0.8828125, 0.89453125, 0.86328125, 0.88671875, 0.87890625, 0.8671875, 0.84765625, 0.86328125, 0.83984375, 0.88671875, 0.83984375, 0.84765625, 0.88671875])\n",
    "sd = np.array([0.48828125, 0.51171875, 0.5078125, 0.4765625, 0.421875, 0.45703125, 0.54296875, 0.51171875, 0.5390625, 0.515625, 0.47265625, 0.42578125, 0.4453125, 0.51171875, 0.39453125, 0.5, 0.453125, 0.47265625, 0.45703125, 0.56640625, 0.53125, 0.51171875, 0.49609375, 0.44921875, 0.43359375, 0.5078125, 0.453125, 0.48046875, 0.53125, 0.51953125, 0.46484375, 0.5, 0.46484375, 0.5546875, 0.61328125, 0.6875, 0.7265625, 0.66796875, 0.75390625, 0.68359375, 0.734375, 0.66796875, 0.74609375, 0.7421875, 0.7890625, 0.76171875, 0.77734375, 0.796875, 0.7578125, 0.75, 0.7890625, 0.75390625, 0.75, 0.7421875, 0.83984375, 0.75390625, 0.8203125, 0.78515625, 0.8125, 0.80859375, 0.78515625, 0.78515625, 0.8125, 0.7734375, 0.828125, 0.796875, 0.86328125, 0.8046875, 0.84765625, 0.80859375, 0.828125, 0.828125, 0.79296875, 0.828125, 0.796875, 0.81640625, 0.83203125, 0.82421875, 0.83203125, 0.84375, 0.796875, 0.85546875, 0.828125, 0.79296875, 0.80078125, 0.83984375, 0.81640625, 0.8203125, 0.83984375, 0.83203125, 0.84375, 0.85546875, 0.8203125, 0.82421875, 0.78515625, 0.828125, 0.828125, 0.8203125, 0.80078125, 0.8359375, 0.8359375, 0.8046875, 0.82421875, 0.80078125, 0.84765625, 0.84765625, 0.83203125, 0.81640625, 0.82421875, 0.77734375, 0.84765625, 0.84375, 0.8359375, 0.8359375, 0.83984375, 0.8203125, 0.86328125, 0.83203125, 0.8515625, 0.85546875, 0.81640625, 0.83984375, 0.82421875, 0.828125, 0.828125, 0.8359375, 0.86328125, 0.85546875, 0.8359375, 0.8515625, 0.8515625, 0.8046875, 0.83203125, 0.859375, 0.8515625, 0.86328125, 0.84375, 0.81640625, 0.82421875, 0.859375, 0.8359375, 0.87109375, 0.83984375, 0.82421875, 0.87890625, 0.83984375, 0.84375, 0.86328125, 0.8671875, 0.88671875, 0.83984375, 0.8046875, 0.859375, 0.88671875, 0.8125, 0.84765625, 0.84375, 0.8515625, 0.83984375, 0.84765625, 0.796875, 0.82421875, 0.82421875, 0.890625, 0.87890625, 0.82421875, 0.87109375, 0.85546875, 0.84765625, 0.828125, 0.8671875, 0.84375, 0.87890625, 0.8828125, 0.875, 0.8125, 0.875, 0.82421875, 0.8359375, 0.8046875, 0.875, 0.859375, 0.828125, 0.84765625, 0.859375, 0.84765625, 0.87890625, 0.85546875, 0.8828125, 0.8359375, 0.828125, 0.8046875, 0.84375, 0.83984375, 0.859375, 0.796875, 0.84765625, 0.8671875, 0.85546875, 0.87890625, 0.85546875, 0.81640625, 0.82421875, 0.86328125, 0.84765625, 0.8515625, 0.83984375, 0.8671875, 0.8515625, 0.83203125, 0.83984375, 0.8828125, 0.83203125, 0.81640625, 0.8671875, 0.8515625, 0.8984375, 0.828125, 0.87109375, 0.8515625, 0.8203125, 0.87109375, 0.85546875, 0.875, 0.8359375, 0.79296875, 0.84375, 0.84765625, 0.8515625, 0.8203125, 0.87890625, 0.84375, 0.8359375, 0.81640625, 0.85546875, 0.8359375, 0.8671875, 0.8203125, 0.84765625, 0.84765625, 0.85546875, 0.875, 0.8125, 0.89453125, 0.84375, 0.8359375, 0.84375, 0.859375, 0.83984375, 0.88671875, 0.8828125, 0.83203125, 0.8671875, 0.84765625, 0.875, 0.84765625, 0.86328125, 0.8984375, 0.86328125, 0.859375, 0.8828125, 0.84765625, 0.8203125, 0.83984375, 0.859375, 0.81640625, 0.88671875, 0.87890625, 0.86328125, 0.8046875, 0.8515625, 0.8828125, 0.8984375, 0.84765625, 0.82421875, 0.86328125, 0.828125, 0.87890625, 0.82421875, 0.8046875, 0.8828125, 0.87890625, 0.87109375, 0.8359375, 0.83984375, 0.87890625, 0.8828125, 0.86328125, 0.86328125, 0.90625, 0.8671875, 0.88671875, 0.83203125, 0.84765625, 0.83984375, 0.83203125, 0.875, 0.875, 0.88671875, 0.8125, 0.84375, 0.875, 0.8203125, 0.86328125, 0.86328125, 0.8515625, 0.83203125, 0.84375, 0.828125, 0.86328125, 0.8984375, 0.8515625, 0.87890625, 0.8203125, 0.87109375, 0.859375, 0.85546875, 0.90625, 0.87890625, 0.87890625, 0.8515625, 0.796875, 0.88671875, 0.8515625, 0.8046875, 0.87109375, 0.8671875, 0.85546875, 0.828125, 0.890625, 0.83984375, 0.8671875, 0.8671875, 0.875, 0.84375, 0.87109375, 0.90234375, 0.88671875, 0.83984375, 0.87109375, 0.87890625, 0.84375, 0.8515625, 0.8046875, 0.89453125, 0.828125, 0.8671875, 0.84765625, 0.859375, 0.84765625, 0.89453125, 0.875, 0.8671875, 0.8515625, 0.8359375, 0.859375, 0.88671875, 0.84375, 0.8671875, 0.83984375, 0.8125, 0.8515625, 0.8515625, 0.87109375, 0.87109375, 0.8125, 0.88671875, 0.83203125, 0.87109375, 0.87890625, 0.83203125, 0.87890625, 0.87109375, 0.87109375, 0.84375, 0.84375, 0.89453125, 0.89453125, 0.84765625, 0.87109375, 0.85546875, 0.890625, 0.83984375, 0.890625, 0.84375, 0.8515625, 0.890625, 0.8828125, 0.8203125, 0.8828125, 0.80859375, 0.87109375, 0.86328125, 0.87109375, 0.8515625, 0.8203125, 0.859375, 0.86328125, 0.8359375, 0.85546875, 0.86328125, 0.88671875, 0.8671875, 0.91796875, 0.86328125, 0.8671875, 0.859375, 0.84375, 0.828125, 0.828125])\n",
    "sr = np.array([0.84375, 0.84765625, 0.85546875, 0.84765625, 0.8515625, 0.84375, 0.86328125, 0.80078125, 0.85546875, 0.8515625, 0.85546875, 0.8203125, 0.875, 0.8515625, 0.8515625, 0.87109375, 0.84375, 0.84765625, 0.84375, 0.85546875, 0.87890625, 0.83203125, 0.87109375, 0.87890625, 0.8515625, 0.8359375, 0.828125, 0.81640625, 0.87109375, 0.84765625, 0.875, 0.859375, 0.84375, 0.8203125, 0.87890625, 0.859375, 0.84765625, 0.89453125, 0.86328125, 0.85546875, 0.83984375, 0.8515625, 0.87109375, 0.85546875, 0.89453125, 0.859375, 0.890625, 0.8515625, 0.86328125, 0.83984375, 0.84765625, 0.828125, 0.875, 0.8828125, 0.8359375, 0.83203125, 0.84375, 0.859375, 0.8359375, 0.859375, 0.88671875, 0.83203125, 0.8671875, 0.85546875, 0.8359375, 0.875, 0.8515625, 0.8359375, 0.87890625, 0.87109375, 0.8828125, 0.8359375, 0.87890625, 0.8515625, 0.90234375, 0.87109375, 0.89453125, 0.84375, 0.83984375, 0.8515625, 0.87109375, 0.89453125, 0.8671875, 0.86328125, 0.8828125, 0.859375, 0.87890625, 0.890625, 0.875, 0.86328125, 0.81640625, 0.875, 0.859375, 0.85546875, 0.859375, 0.84765625, 0.8515625, 0.84765625, 0.85546875, 0.84375, 0.859375, 0.859375, 0.87890625, 0.82421875, 0.828125, 0.84375, 0.89453125, 0.83984375, 0.84375, 0.82421875, 0.83203125, 0.86328125, 0.828125, 0.8359375, 0.88671875, 0.85546875, 0.87890625, 0.8515625, 0.88671875, 0.85546875, 0.89453125, 0.87890625, 0.84765625, 0.87109375, 0.83203125, 0.8828125, 0.85546875, 0.875, 0.8828125, 0.87109375, 0.8515625, 0.8984375, 0.83984375, 0.89453125, 0.86328125, 0.87109375, 0.83984375, 0.8828125, 0.89453125, 0.8515625, 0.859375, 0.828125, 0.91796875, 0.87890625, 0.83203125, 0.828125, 0.84765625, 0.8671875, 0.88671875, 0.86328125, 0.83984375, 0.85546875, 0.890625, 0.8125, 0.83984375, 0.86328125, 0.8828125, 0.87890625, 0.84765625, 0.87109375, 0.8671875, 0.85546875, 0.875, 0.890625, 0.87890625, 0.85546875, 0.87890625, 0.85546875, 0.86328125, 0.8984375, 0.89453125, 0.82421875, 0.89453125, 0.9140625, 0.87890625, 0.8359375, 0.890625, 0.85546875, 0.875, 0.84765625, 0.8671875, 0.87109375, 0.8828125, 0.875, 0.890625, 0.87109375, 0.90234375, 0.90625, 0.83984375, 0.890625, 0.82421875, 0.84375, 0.89453125, 0.890625, 0.86328125, 0.90625, 0.84765625, 0.86328125, 0.85546875, 0.875, 0.90234375, 0.87109375, 0.84765625, 0.85546875, 0.8828125, 0.85546875, 0.84765625, 0.89453125, 0.859375, 0.88671875, 0.87890625, 0.86328125, 0.8671875, 0.8046875, 0.84375, 0.87890625, 0.890625, 0.8359375, 0.8671875, 0.89453125, 0.8515625, 0.8984375, 0.87109375, 0.87109375, 0.89453125, 0.859375, 0.91796875, 0.87890625, 0.87890625, 0.91015625, 0.84765625, 0.84765625, 0.89453125, 0.85546875, 0.87890625, 0.8828125, 0.84375, 0.9296875, 0.8671875, 0.8671875, 0.87109375, 0.85546875, 0.85546875, 0.8359375, 0.84765625, 0.828125, 0.8359375, 0.890625, 0.828125, 0.8671875, 0.91015625, 0.87109375, 0.890625, 0.89453125, 0.87890625, 0.8984375, 0.83203125, 0.90625, 0.88671875, 0.859375, 0.83203125, 0.84765625, 0.87109375, 0.890625, 0.8828125, 0.875, 0.859375, 0.91015625, 0.8828125, 0.88671875, 0.8125, 0.875, 0.875, 0.828125, 0.890625, 0.84765625, 0.85546875, 0.859375, 0.87109375, 0.86328125, 0.859375, 0.875, 0.859375, 0.90234375, 0.87109375, 0.890625, 0.84375, 0.890625, 0.87890625, 0.86328125, 0.8671875, 0.87109375, 0.875, 0.84765625, 0.84375, 0.90234375, 0.859375, 0.828125, 0.8984375, 0.859375, 0.87109375, 0.859375, 0.90625, 0.8984375, 0.8125, 0.87890625, 0.875, 0.88671875, 0.83203125, 0.8671875, 0.87890625, 0.890625, 0.86328125, 0.859375, 0.91796875, 0.87890625, 0.90234375, 0.87890625, 0.86328125, 0.875, 0.859375, 0.83984375, 0.859375, 0.8671875, 0.87890625, 0.8984375, 0.890625, 0.875, 0.88671875, 0.87890625, 0.87890625, 0.875, 0.8671875, 0.890625, 0.90625, 0.8671875, 0.8984375, 0.83984375, 0.86328125, 0.859375, 0.8828125, 0.8828125, 0.86328125, 0.8359375, 0.87109375, 0.9140625, 0.91015625, 0.8984375, 0.859375, 0.86328125, 0.86328125, 0.88671875, 0.8828125, 0.84765625, 0.89453125, 0.875, 0.87109375, 0.875, 0.875, 0.8515625, 0.87109375, 0.84765625, 0.83984375, 0.8671875, 0.875, 0.8203125, 0.8671875, 0.84375, 0.875, 0.890625, 0.87890625, 0.86328125, 0.89453125, 0.890625, 0.87890625, 0.85546875, 0.859375, 0.875, 0.859375, 0.86328125, 0.890625, 0.85546875, 0.87890625, 0.87890625, 0.859375, 0.84375, 0.8984375, 0.88671875, 0.87109375, 0.89453125, 0.875, 0.84765625, 0.8515625, 0.890625, 0.8671875, 0.84765625, 0.8984375, 0.8515625, 0.859375, 0.8828125, 0.875, 0.875, 0.87890625, 0.8671875, 0.875, 0.87109375, 0.86328125, 0.87109375, 0.8671875, 0.90625])\n",
    "N = 50\n",
    "\n",
    "mask = np.convolve(mask, np.ones((N,))/N, mode='valid')\n",
    "mask_sd = np.convolve(mask_sd, np.ones((N,))/N, mode='valid')\n",
    "sd = np.convolve(sd, np.ones((N,))/N, mode='valid')\n",
    "sr = np.convolve(sr, np.ones((N,))/N, mode='valid')\n",
    "\n",
    "\n",
    "train_size = np.arange(1, len(mask_sd) + 1)\n",
    "\n",
    "# plt.figure(1,figsize=(30,20))\n",
    "# plt.subplot(1, 2, 1)\n",
    "# plt.plot(train_size[:100],mask_sd[:100])\n",
    "# plt.plot(train_size[:100], sd[:100])\n",
    "# plt.plot(train_size[:100],sr[:100])\n",
    "# plt.xlabel('Training Size (50k image = 1)')\n",
    "# plt.ylabel(\"Accuracy\")\n",
    "# plt.title(\"SD vs SR vs Mask(first 5 million images)\")\n",
    "# plt.grid(True)\n",
    "# plt.legend(['Mask-based Network', 'SD', 'SR'], loc=\"lower right\")\n",
    "# plt.style.use(['classic'])\n",
    "\n",
    "# plt.subplot(1, 2, 2)\n",
    "# plt.plot(train_size[100:410],mask_sd[100:410])\n",
    "# plt.plot(train_size[100:410], sd[100:410])\n",
    "# plt.plot(train_size[100:410],sr[100:410])\n",
    "# plt.xlabel('Training Size (50k image = 1)')\n",
    "# plt.ylabel(\"Accuracy\")\n",
    "# plt.title(\"SD vs SR vs Mask(next 15.5 million images)\")\n",
    "# plt.grid(True)\n",
    "# plt.legend(['Mask-based Network', 'SD', 'SR'], loc=\"lower right\")\n",
    "# plt.style.use(['classic'])\n",
    "\n",
    "\n",
    "# plt.show()\n",
    "\n",
    "\n",
    "plt.figure(2,figsize=(30,10))\n",
    "# plt.subplot(1, 2, 1)\n",
    "plt.plot(train_size,mask)\n",
    "plt.plot(train_size,mask_sd)\n",
    "\n",
    "plt.xlabel('Training Size (50k image = 1)')\n",
    "plt.ylabel(\"Accuracy\")\n",
    "plt.title(\"Predicted Mask vs Mask SD Accuracy(20.5 million image)\")\n",
    "plt.grid(True)\n",
    "plt.legend(['Predicted Mask', 'Mask SD'], loc=\"lower right\")\n",
    "plt.style.use(['classic'])\n",
    "\n",
    "plt.show()"
   ]
  },
  {
   "cell_type": "code",
   "execution_count": null,
   "metadata": {},
   "outputs": [],
   "source": []
  }
 ],
 "metadata": {
  "kernelspec": {
   "display_name": "Python 3",
   "language": "python",
   "name": "python3"
  },
  "language_info": {
   "codemirror_mode": {
    "name": "ipython",
    "version": 3
   },
   "file_extension": ".py",
   "mimetype": "text/x-python",
   "name": "python",
   "nbconvert_exporter": "python",
   "pygments_lexer": "ipython3",
   "version": "3.6.7"
  }
 },
 "nbformat": 4,
 "nbformat_minor": 2
}
