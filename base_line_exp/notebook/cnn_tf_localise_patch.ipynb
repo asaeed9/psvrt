{
 "cells": [
  {
   "cell_type": "code",
   "execution_count": 2,
   "metadata": {},
   "outputs": [],
   "source": [
    "%matplotlib inline\n",
    "from __future__ import absolute_import\n",
    "from __future__ import division\n",
    "from __future__ import print_function\n",
    "import matplotlib.pyplot as plt\n",
    "import tensorflow as tf\n",
    "import numpy as np\n",
    "from sklearn.metrics import confusion_matrix\n",
    "import cv2, os, math, time\n",
    "from datetime import timedelta\n",
    "from sklearn.utils import shuffle\n",
    "from numpy.lib.stride_tricks import as_strided"
   ]
  },
  {
   "cell_type": "code",
   "execution_count": 5,
   "metadata": {},
   "outputs": [],
   "source": [
    "sess1 = tf.Session()"
   ]
  },
  {
   "cell_type": "code",
   "execution_count": 50,
   "metadata": {},
   "outputs": [],
   "source": [
    "\"\"\"convolution with the mask\"\"\"\n",
    "# sess1 = tf.Session()\n",
    "# sess1.run(tf.global_variables_initializer())\n",
    "tf.set_random_seed(1)\n",
    "patch_size = 4\n",
    "# x = tf.constant([9.0,8.0,6.0,9.0,8.0,2.0,6.0,3.0,4.0,0.0], dtype=tf.float32, name=\"x\") \n",
    "mask = tf.constant([0.0,0.0,0.0,0.0,1.0,1.0,1.0,1.0,0.0,0.0], dtype=tf.float32, name='i')\n",
    "k = tf.ones([patch_size], dtype=tf.float32, name='k')\n",
    "beta = tf.Variable(tf.random_normal([10,10], dtype=tf.float32, seed=2))\n",
    "# beta = tf.Variable(tf.random_uniform([100], dtype=tf.float32, seed=2), name=\"beta\")\n",
    "# beta = tf.reshape(beta, [10,10])\n",
    "\n",
    "paddings = tf.constant([[0, patch_size-1]])\n",
    "padded_mask = tf.pad(mask, paddings, \"CONSTANT\")\n",
    "\n",
    "padded_mask   = tf.reshape(padded_mask, [1, int(padded_mask.shape[0]), 1], name='padded_mask')\n",
    "kernel = tf.reshape(k, [int(k.shape[0]), 1, 1], name='kernel')\n",
    "\n",
    "res = tf.squeeze(tf.nn.conv1d(padded_mask, kernel, 1, 'VALID'))\n",
    "# res.eval(session=sess1)\n",
    "# sess1.run(tf.global_variables_initializer())\n",
    "sess1.run(tf.global_variables_initializer())"
   ]
  },
  {
   "cell_type": "code",
   "execution_count": 52,
   "metadata": {},
   "outputs": [
    {
     "name": "stdout",
     "output_type": "stream",
     "text": [
      "(10,)\n",
      "[0. 1. 2. 3. 4. 3. 2. 1. 0. 0.]\n"
     ]
    }
   ],
   "source": [
    "\"\"\"softmax implementation\"\"\"\n",
    "\"\"\"\n",
    "Input: input matrix, raw vector calculated from mask\n",
    "Output: \n",
    "\"\"\"\n",
    "\n",
    "# print(beta.eval(session=sess1))\n",
    "print(res.get_shape())\n",
    "print(res.eval(session=sess1))\n",
    "\n",
    "# logits = tf.matmul(tf.expand_dims(res, 0), beta)\n",
    "# softmax_logis = tf.nn.softmax(logits)\n",
    "# print(softmax_logis.eval(session=sess1))\n",
    "\n",
    "# weights = tf.squeeze(tf.cast(tf.where(\n",
    "#         tf.equal(tf.reduce_max(softmax_logis, axis=1, keepdims=True), softmax_logis), \n",
    "#         tf.constant(1, shape=softmax_logis.shape), \n",
    "#         tf.constant(0, shape=softmax_logis.shape)\n",
    "#     ), dtype=tf.float32)).eval(session=sess1)\n",
    "\n",
    "# patch_size = 4\n",
    "# end_range = x.get_shape()[0]-patch_size+1\n",
    "# print(x.eval(session=sess1))\n",
    "# print(weights)\n",
    "# xm = tf.map_fn(lambda i: x[i:i+end_range], tf.range(patch_size), dtype=tf.float32)\n",
    "# patch = tf.reduce_sum(tf.matmul(xm, tf.expand_dims(weights[0:end_range], 1)), axis=1)\n",
    "# print(patch.eval(session=sess1))"
   ]
  },
  {
   "cell_type": "code",
   "execution_count": null,
   "metadata": {},
   "outputs": [],
   "source": [
    "tf.set_random_seed(1)\n",
    "beta = tf.random_uniform([100], dtype=tf.float32, name=\"beta\", seed=2)\n",
    "# beta = tf.Variable(tf.random_uniform([100], dtype=tf.float32, seed=2), name=\"beta\")\n",
    "beta = tf.reshape(beta, [10,10])\n",
    "res = tf.constant([[0., 1., 2., 3., 4., 3., 2., 1., 0., 0.]], dtype=tf.float32)\n",
    "# logits = tf.Variable(tf.truncated_normal([1, 10]), name='logits')\n",
    "sess1 = tf.Session()\n",
    "sess1.run(tf.global_variables_initializer())\n",
    "logits = tf.matmul(res, beta)\n",
    "print(logits.eval(session=sess1))\n",
    "tf.where(\n",
    "        tf.equal(tf.reduce_max(logits, axis=1, keepdims=True), logits), \n",
    "        tf.constant(1, shape=logits.shape), \n",
    "        tf.constant(0, shape=logits.shape)\n",
    "    ).eval(session=sess1)"
   ]
  },
  {
   "cell_type": "code",
   "execution_count": null,
   "metadata": {},
   "outputs": [],
   "source": []
  }
 ],
 "metadata": {
  "anaconda-cloud": {},
  "kernelspec": {
   "display_name": "Python 3",
   "language": "python",
   "name": "python3"
  },
  "language_info": {
   "codemirror_mode": {
    "name": "ipython",
    "version": 3
   },
   "file_extension": ".py",
   "mimetype": "text/x-python",
   "name": "python",
   "nbconvert_exporter": "python",
   "pygments_lexer": "ipython3",
   "version": "3.6.6"
  }
 },
 "nbformat": 4,
 "nbformat_minor": 2
}
